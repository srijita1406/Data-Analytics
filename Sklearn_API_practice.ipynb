{
  "cells": [
    {
      "cell_type": "markdown",
      "metadata": {
        "id": "view-in-github",
        "colab_type": "text"
      },
      "source": [
        "<a href=\"https://colab.research.google.com/github/srijita1406/Data-Analytics/blob/main/Sklearn_API_practice.ipynb\" target=\"_parent\"><img src=\"https://colab.research.google.com/assets/colab-badge.svg\" alt=\"Open In Colab\"/></a>"
      ]
    },
    {
      "cell_type": "markdown",
      "id": "7c5bd049-53cd-40eb-bb09-bfc2453a52bd",
      "metadata": {
        "id": "7c5bd049-53cd-40eb-bb09-bfc2453a52bd"
      },
      "source": [
        "# Loaders"
      ]
    },
    {
      "cell_type": "code",
      "execution_count": null,
      "id": "df6b8146-aa2f-40a4-a502-a400865479e7",
      "metadata": {
        "id": "df6b8146-aa2f-40a4-a502-a400865479e7"
      },
      "outputs": [],
      "source": [
        "from sklearn.datasets import load_iris\n",
        "data = load_iris() #Return a Bunch object"
      ]
    },
    {
      "cell_type": "code",
      "execution_count": null,
      "id": "86d90222-5470-49f0-a4b6-733aa16a5709",
      "metadata": {
        "id": "86d90222-5470-49f0-a4b6-733aa16a5709",
        "outputId": "6baa5008-6ed2-4fa6-d52a-7818188b0269",
        "colab": {
          "base_uri": "https://localhost:8080/"
        }
      },
      "outputs": [
        {
          "output_type": "execute_result",
          "data": {
            "text/plain": [
              "sklearn.utils.Bunch"
            ]
          },
          "metadata": {},
          "execution_count": 2
        }
      ],
      "source": [
        "type(data) "
      ]
    },
    {
      "cell_type": "markdown",
      "id": "b82ffce2-39ec-4e43-943f-80c8d4365253",
      "metadata": {
        "id": "b82ffce2-39ec-4e43-943f-80c8d4365253"
      },
      "source": [
        "Contains i) data ii) target iii) feature_names iv)target_names v)DESCR vi) filename"
      ]
    },
    {
      "cell_type": "code",
      "execution_count": null,
      "id": "3d2b4875-fb16-4dd4-a79a-0de00c0bedbb",
      "metadata": {
        "id": "3d2b4875-fb16-4dd4-a79a-0de00c0bedbb",
        "outputId": "95f4ed11-f483-47c9-efa7-6ea56618c539",
        "colab": {
          "base_uri": "https://localhost:8080/"
        }
      },
      "outputs": [
        {
          "output_type": "execute_result",
          "data": {
            "text/plain": [
              "['sepal length (cm)',\n",
              " 'sepal width (cm)',\n",
              " 'petal length (cm)',\n",
              " 'petal width (cm)']"
            ]
          },
          "metadata": {},
          "execution_count": 3
        }
      ],
      "source": [
        "data.feature_names"
      ]
    },
    {
      "cell_type": "code",
      "execution_count": null,
      "id": "8f7a329a-00ca-47d4-bf6c-971479f22fbc",
      "metadata": {
        "id": "8f7a329a-00ca-47d4-bf6c-971479f22fbc",
        "outputId": "3a47c741-fc4d-46e9-d059-786887045a6d",
        "colab": {
          "base_uri": "https://localhost:8080/",
          "height": 175
        }
      },
      "outputs": [
        {
          "output_type": "execute_result",
          "data": {
            "text/plain": [
              "'.. _iris_dataset:\\n\\nIris plants dataset\\n--------------------\\n\\n**Data Set Characteristics:**\\n\\n    :Number of Instances: 150 (50 in each of three classes)\\n    :Number of Attributes: 4 numeric, predictive attributes and the class\\n    :Attribute Information:\\n        - sepal length in cm\\n        - sepal width in cm\\n        - petal length in cm\\n        - petal width in cm\\n        - class:\\n                - Iris-Setosa\\n                - Iris-Versicolour\\n                - Iris-Virginica\\n                \\n    :Summary Statistics:\\n\\n    ============== ==== ==== ======= ===== ====================\\n                    Min  Max   Mean    SD   Class Correlation\\n    ============== ==== ==== ======= ===== ====================\\n    sepal length:   4.3  7.9   5.84   0.83    0.7826\\n    sepal width:    2.0  4.4   3.05   0.43   -0.4194\\n    petal length:   1.0  6.9   3.76   1.76    0.9490  (high!)\\n    petal width:    0.1  2.5   1.20   0.76    0.9565  (high!)\\n    ============== ==== ==== ======= ===== ====================\\n\\n    :Missing Attribute Values: None\\n    :Class Distribution: 33.3% for each of 3 classes.\\n    :Creator: R.A. Fisher\\n    :Donor: Michael Marshall (MARSHALL%PLU@io.arc.nasa.gov)\\n    :Date: July, 1988\\n\\nThe famous Iris database, first used by Sir R.A. Fisher. The dataset is taken\\nfrom Fisher\\'s paper. Note that it\\'s the same as in R, but not as in the UCI\\nMachine Learning Repository, which has two wrong data points.\\n\\nThis is perhaps the best known database to be found in the\\npattern recognition literature.  Fisher\\'s paper is a classic in the field and\\nis referenced frequently to this day.  (See Duda & Hart, for example.)  The\\ndata set contains 3 classes of 50 instances each, where each class refers to a\\ntype of iris plant.  One class is linearly separable from the other 2; the\\nlatter are NOT linearly separable from each other.\\n\\n.. topic:: References\\n\\n   - Fisher, R.A. \"The use of multiple measurements in taxonomic problems\"\\n     Annual Eugenics, 7, Part II, 179-188 (1936); also in \"Contributions to\\n     Mathematical Statistics\" (John Wiley, NY, 1950).\\n   - Duda, R.O., & Hart, P.E. (1973) Pattern Classification and Scene Analysis.\\n     (Q327.D83) John Wiley & Sons.  ISBN 0-471-22361-1.  See page 218.\\n   - Dasarathy, B.V. (1980) \"Nosing Around the Neighborhood: A New System\\n     Structure and Classification Rule for Recognition in Partially Exposed\\n     Environments\".  IEEE Transactions on Pattern Analysis and Machine\\n     Intelligence, Vol. PAMI-2, No. 1, 67-71.\\n   - Gates, G.W. (1972) \"The Reduced Nearest Neighbor Rule\".  IEEE Transactions\\n     on Information Theory, May 1972, 431-433.\\n   - See also: 1988 MLC Proceedings, 54-64.  Cheeseman et al\"s AUTOCLASS II\\n     conceptual clustering system finds 3 classes in the data.\\n   - Many, many more ...'"
            ],
            "application/vnd.google.colaboratory.intrinsic+json": {
              "type": "string"
            }
          },
          "metadata": {},
          "execution_count": 4
        }
      ],
      "source": [
        "data.DESCR"
      ]
    },
    {
      "cell_type": "code",
      "execution_count": null,
      "id": "d07715bd-f113-41d1-b649-86b69185aad0",
      "metadata": {
        "id": "d07715bd-f113-41d1-b649-86b69185aad0",
        "outputId": "9aaba390-b32c-4b1b-da38-2b3546daa8b7",
        "colab": {
          "base_uri": "https://localhost:8080/"
        }
      },
      "outputs": [
        {
          "output_type": "execute_result",
          "data": {
            "text/plain": [
              "array([[5.1, 3.5, 1.4, 0.2],\n",
              "       [4.9, 3. , 1.4, 0.2],\n",
              "       [4.7, 3.2, 1.3, 0.2],\n",
              "       [4.6, 3.1, 1.5, 0.2],\n",
              "       [5. , 3.6, 1.4, 0.2]])"
            ]
          },
          "metadata": {},
          "execution_count": 5
        }
      ],
      "source": [
        "data.data[:5] #First five rows from feature matrix"
      ]
    },
    {
      "cell_type": "code",
      "execution_count": null,
      "id": "a1779af4-9bf9-451d-a49f-376b49175a32",
      "metadata": {
        "id": "a1779af4-9bf9-451d-a49f-376b49175a32",
        "outputId": "c53fb65b-c2e6-4403-ae7c-baa6198d9e46",
        "colab": {
          "base_uri": "https://localhost:8080/"
        }
      },
      "outputs": [
        {
          "output_type": "execute_result",
          "data": {
            "text/plain": [
              "array(['setosa', 'versicolor', 'virginica'], dtype='<U10')"
            ]
          },
          "metadata": {},
          "execution_count": 6
        }
      ],
      "source": [
        "data.target_names #Lables"
      ]
    },
    {
      "cell_type": "code",
      "execution_count": null,
      "id": "bc3332b7-905b-4b37-a6f1-d22c162009f3",
      "metadata": {
        "id": "bc3332b7-905b-4b37-a6f1-d22c162009f3",
        "outputId": "4b13e09d-db48-4dac-d9de-c2069dc5c154",
        "colab": {
          "base_uri": "https://localhost:8080/"
        }
      },
      "outputs": [
        {
          "output_type": "execute_result",
          "data": {
            "text/plain": [
              "array([0, 0, 0, 0, 0, 0, 0, 0, 0, 0, 0, 0, 0, 0, 0, 0, 0, 0, 0, 0, 0, 0,\n",
              "       0, 0, 0, 0, 0, 0, 0, 0, 0, 0, 0, 0, 0, 0, 0, 0, 0, 0, 0, 0, 0, 0,\n",
              "       0, 0, 0, 0, 0, 0, 1, 1, 1, 1, 1, 1, 1, 1, 1, 1, 1, 1, 1, 1, 1, 1,\n",
              "       1, 1, 1, 1, 1, 1, 1, 1, 1, 1, 1, 1, 1, 1, 1, 1, 1, 1, 1, 1, 1, 1,\n",
              "       1, 1, 1, 1, 1, 1, 1, 1, 1, 1, 1, 1, 2, 2, 2, 2, 2, 2, 2, 2, 2, 2,\n",
              "       2, 2, 2, 2, 2, 2, 2, 2, 2, 2, 2, 2, 2, 2, 2, 2, 2, 2, 2, 2, 2, 2,\n",
              "       2, 2, 2, 2, 2, 2, 2, 2, 2, 2, 2, 2, 2, 2, 2, 2, 2, 2])"
            ]
          },
          "metadata": {},
          "execution_count": 7
        }
      ],
      "source": [
        "data.target"
      ]
    },
    {
      "cell_type": "code",
      "execution_count": null,
      "id": "e104c498-3d07-49dc-b38c-282e4c3e67e4",
      "metadata": {
        "id": "e104c498-3d07-49dc-b38c-282e4c3e67e4"
      },
      "outputs": [],
      "source": [
        "?load_iris "
      ]
    },
    {
      "cell_type": "markdown",
      "id": "b7346cca-3bab-4aab-b5b8-41b36faf7865",
      "metadata": {
        "id": "b7346cca-3bab-4aab-b5b8-41b36faf7865"
      },
      "source": [
        "We can make the load function output tuples of fetures and labels"
      ]
    },
    {
      "cell_type": "code",
      "execution_count": null,
      "id": "1fe1b42d-8e49-4136-8123-5c062f9e648c",
      "metadata": {
        "id": "1fe1b42d-8e49-4136-8123-5c062f9e648c"
      },
      "outputs": [],
      "source": [
        "feature_matrix, label_vector = load_iris(return_X_y = True)"
      ]
    },
    {
      "cell_type": "code",
      "execution_count": null,
      "id": "879c9618-beb7-4b9e-873f-4dd2d08e581c",
      "metadata": {
        "id": "879c9618-beb7-4b9e-873f-4dd2d08e581c",
        "outputId": "3d6ea4f7-14f0-4854-9b6f-2bc6ae4d5969",
        "colab": {
          "base_uri": "https://localhost:8080/"
        }
      },
      "outputs": [
        {
          "output_type": "stream",
          "name": "stdout",
          "text": [
            "Shape of feature matrix: (150, 4)\n",
            "Shape of label vector: (150,)\n"
          ]
        }
      ],
      "source": [
        "print(\"Shape of feature matrix:\", feature_matrix.shape)\n",
        "print(\"Shape of label vector:\", label_vector.shape)"
      ]
    },
    {
      "cell_type": "markdown",
      "id": "9dc4c190-4b7f-4f6f-8ec6-20332511b7c4",
      "metadata": {
        "id": "9dc4c190-4b7f-4f6f-8ec6-20332511b7c4"
      },
      "source": [
        "## Loading Diabetes dataset"
      ]
    },
    {
      "cell_type": "code",
      "execution_count": null,
      "id": "e729bde3-498d-45f5-b71b-95651adc39ee",
      "metadata": {
        "id": "e729bde3-498d-45f5-b71b-95651adc39ee"
      },
      "outputs": [],
      "source": [
        "from sklearn.datasets import load_diabetes\n",
        "data = load_diabetes()"
      ]
    },
    {
      "cell_type": "code",
      "execution_count": null,
      "id": "52a20839-6cd2-49ec-8a1c-d391f4d682d9",
      "metadata": {
        "id": "52a20839-6cd2-49ec-8a1c-d391f4d682d9",
        "outputId": "e5d4e8d8-2cc4-4190-bd61-db00dff0672f",
        "colab": {
          "base_uri": "https://localhost:8080/",
          "height": 192
        }
      },
      "outputs": [
        {
          "output_type": "execute_result",
          "data": {
            "text/plain": [
              "'.. _diabetes_dataset:\\n\\nDiabetes dataset\\n----------------\\n\\nTen baseline variables, age, sex, body mass index, average blood\\npressure, and six blood serum measurements were obtained for each of n =\\n442 diabetes patients, as well as the response of interest, a\\nquantitative measure of disease progression one year after baseline.\\n\\n**Data Set Characteristics:**\\n\\n  :Number of Instances: 442\\n\\n  :Number of Attributes: First 10 columns are numeric predictive values\\n\\n  :Target: Column 11 is a quantitative measure of disease progression one year after baseline\\n\\n  :Attribute Information:\\n      - age     age in years\\n      - sex\\n      - bmi     body mass index\\n      - bp      average blood pressure\\n      - s1      tc, total serum cholesterol\\n      - s2      ldl, low-density lipoproteins\\n      - s3      hdl, high-density lipoproteins\\n      - s4      tch, total cholesterol / HDL\\n      - s5      ltg, possibly log of serum triglycerides level\\n      - s6      glu, blood sugar level\\n\\nNote: Each of these 10 feature variables have been mean centered and scaled by the standard deviation times `n_samples` (i.e. the sum of squares of each column totals 1).\\n\\nSource URL:\\nhttps://www4.stat.ncsu.edu/~boos/var.select/diabetes.html\\n\\nFor more information see:\\nBradley Efron, Trevor Hastie, Iain Johnstone and Robert Tibshirani (2004) \"Least Angle Regression,\" Annals of Statistics (with discussion), 407-499.\\n(https://web.stanford.edu/~hastie/Papers/LARS/LeastAngle_2002.pdf)'"
            ],
            "application/vnd.google.colaboratory.intrinsic+json": {
              "type": "string"
            }
          },
          "metadata": {},
          "execution_count": 12
        }
      ],
      "source": [
        "data.DESCR"
      ]
    },
    {
      "cell_type": "code",
      "execution_count": null,
      "id": "c012de8d-b043-48bf-a22c-8beaa0ad2746",
      "metadata": {
        "id": "c012de8d-b043-48bf-a22c-8beaa0ad2746",
        "outputId": "0ecd064d-0cad-407d-ac83-7f0bf901fea2",
        "colab": {
          "base_uri": "https://localhost:8080/"
        }
      },
      "outputs": [
        {
          "output_type": "execute_result",
          "data": {
            "text/plain": [
              "array([[ 0.03807591,  0.05068012,  0.06169621,  0.02187235, -0.0442235 ,\n",
              "        -0.03482076, -0.04340085, -0.00259226,  0.01990842, -0.01764613],\n",
              "       [-0.00188202, -0.04464164, -0.05147406, -0.02632783, -0.00844872,\n",
              "        -0.01916334,  0.07441156, -0.03949338, -0.06832974, -0.09220405],\n",
              "       [ 0.08529891,  0.05068012,  0.04445121, -0.00567061, -0.04559945,\n",
              "        -0.03419447, -0.03235593, -0.00259226,  0.00286377, -0.02593034],\n",
              "       [-0.08906294, -0.04464164, -0.01159501, -0.03665645,  0.01219057,\n",
              "         0.02499059, -0.03603757,  0.03430886,  0.02269202, -0.00936191],\n",
              "       [ 0.00538306, -0.04464164, -0.03638469,  0.02187235,  0.00393485,\n",
              "         0.01559614,  0.00814208, -0.00259226, -0.03199144, -0.04664087]])"
            ]
          },
          "metadata": {},
          "execution_count": 13
        }
      ],
      "source": [
        "data.data[:5]"
      ]
    },
    {
      "cell_type": "code",
      "execution_count": null,
      "id": "11854b48-5153-4a6a-a804-e9db116e1b2d",
      "metadata": {
        "id": "11854b48-5153-4a6a-a804-e9db116e1b2d",
        "outputId": "d5a767aa-ceb3-47cc-c57d-a4b7de55c3f0",
        "colab": {
          "base_uri": "https://localhost:8080/"
        }
      },
      "outputs": [
        {
          "output_type": "execute_result",
          "data": {
            "text/plain": [
              "['age', 'sex', 'bmi', 'bp', 's1', 's2', 's3', 's4', 's5', 's6']"
            ]
          },
          "metadata": {},
          "execution_count": 14
        }
      ],
      "source": [
        "data.feature_names"
      ]
    },
    {
      "cell_type": "code",
      "execution_count": null,
      "id": "217bedbd-d912-4ccb-a7ef-226cba3741ba",
      "metadata": {
        "id": "217bedbd-d912-4ccb-a7ef-226cba3741ba",
        "outputId": "0fae49e9-5fe0-4b47-ac97-0c2f6065251c",
        "colab": {
          "base_uri": "https://localhost:8080/"
        }
      },
      "outputs": [
        {
          "output_type": "execute_result",
          "data": {
            "text/plain": [
              "array([151.,  75., 141., 206., 135.,  97., 138.,  63., 110., 310., 101.,\n",
              "        69., 179., 185., 118., 171., 166., 144.,  97., 168.,  68.,  49.,\n",
              "        68., 245., 184., 202., 137.,  85., 131., 283., 129.,  59., 341.,\n",
              "        87.,  65., 102., 265., 276., 252.,  90., 100.,  55.,  61.,  92.,\n",
              "       259.,  53., 190., 142.,  75., 142., 155., 225.,  59., 104., 182.,\n",
              "       128.,  52.,  37., 170., 170.,  61., 144.,  52., 128.,  71., 163.,\n",
              "       150.,  97., 160., 178.,  48., 270., 202., 111.,  85.,  42., 170.,\n",
              "       200., 252., 113., 143.,  51.,  52., 210.,  65., 141.,  55., 134.,\n",
              "        42., 111.,  98., 164.,  48.,  96.,  90., 162., 150., 279.,  92.,\n",
              "        83., 128., 102., 302., 198.,  95.,  53., 134., 144., 232.,  81.,\n",
              "       104.,  59., 246., 297., 258., 229., 275., 281., 179., 200., 200.,\n",
              "       173., 180.,  84., 121., 161.,  99., 109., 115., 268., 274., 158.,\n",
              "       107.,  83., 103., 272.,  85., 280., 336., 281., 118., 317., 235.,\n",
              "        60., 174., 259., 178., 128.,  96., 126., 288.,  88., 292.,  71.,\n",
              "       197., 186.,  25.,  84.,  96., 195.,  53., 217., 172., 131., 214.,\n",
              "        59.,  70., 220., 268., 152.,  47.,  74., 295., 101., 151., 127.,\n",
              "       237., 225.,  81., 151., 107.,  64., 138., 185., 265., 101., 137.,\n",
              "       143., 141.,  79., 292., 178.,  91., 116.,  86., 122.,  72., 129.,\n",
              "       142.,  90., 158.,  39., 196., 222., 277.,  99., 196., 202., 155.,\n",
              "        77., 191.,  70.,  73.,  49.,  65., 263., 248., 296., 214., 185.,\n",
              "        78.,  93., 252., 150.,  77., 208.,  77., 108., 160.,  53., 220.,\n",
              "       154., 259.,  90., 246., 124.,  67.,  72., 257., 262., 275., 177.,\n",
              "        71.,  47., 187., 125.,  78.,  51., 258., 215., 303., 243.,  91.,\n",
              "       150., 310., 153., 346.,  63.,  89.,  50.,  39., 103., 308., 116.,\n",
              "       145.,  74.,  45., 115., 264.,  87., 202., 127., 182., 241.,  66.,\n",
              "        94., 283.,  64., 102., 200., 265.,  94., 230., 181., 156., 233.,\n",
              "        60., 219.,  80.,  68., 332., 248.,  84., 200.,  55.,  85.,  89.,\n",
              "        31., 129.,  83., 275.,  65., 198., 236., 253., 124.,  44., 172.,\n",
              "       114., 142., 109., 180., 144., 163., 147.,  97., 220., 190., 109.,\n",
              "       191., 122., 230., 242., 248., 249., 192., 131., 237.,  78., 135.,\n",
              "       244., 199., 270., 164.,  72.,  96., 306.,  91., 214.,  95., 216.,\n",
              "       263., 178., 113., 200., 139., 139.,  88., 148.,  88., 243.,  71.,\n",
              "        77., 109., 272.,  60.,  54., 221.,  90., 311., 281., 182., 321.,\n",
              "        58., 262., 206., 233., 242., 123., 167.,  63., 197.,  71., 168.,\n",
              "       140., 217., 121., 235., 245.,  40.,  52., 104., 132.,  88.,  69.,\n",
              "       219.,  72., 201., 110.,  51., 277.,  63., 118.,  69., 273., 258.,\n",
              "        43., 198., 242., 232., 175.,  93., 168., 275., 293., 281.,  72.,\n",
              "       140., 189., 181., 209., 136., 261., 113., 131., 174., 257.,  55.,\n",
              "        84.,  42., 146., 212., 233.,  91., 111., 152., 120.,  67., 310.,\n",
              "        94., 183.,  66., 173.,  72.,  49.,  64.,  48., 178., 104., 132.,\n",
              "       220.,  57.])"
            ]
          },
          "metadata": {},
          "execution_count": 15
        }
      ],
      "source": [
        "data.target"
      ]
    },
    {
      "cell_type": "code",
      "execution_count": null,
      "id": "9e42def7-43f5-4f34-84ea-74674f29812f",
      "metadata": {
        "id": "9e42def7-43f5-4f34-84ea-74674f29812f",
        "outputId": "27f6626d-00fd-47b4-8145-ad8714575a4d",
        "colab": {
          "base_uri": "https://localhost:8080/"
        }
      },
      "outputs": [
        {
          "output_type": "execute_result",
          "data": {
            "text/plain": [
              "(442,)"
            ]
          },
          "metadata": {},
          "execution_count": 16
        }
      ],
      "source": [
        "data.target.shape"
      ]
    },
    {
      "cell_type": "markdown",
      "id": "54ac1472-6f1e-431e-b6fe-ac167474d9a5",
      "metadata": {
        "id": "54ac1472-6f1e-431e-b6fe-ac167474d9a5"
      },
      "source": [
        "# Fetchers"
      ]
    },
    {
      "cell_type": "code",
      "execution_count": null,
      "id": "2039a164-f9de-4f94-95a6-184a3542ed5a",
      "metadata": {
        "id": "2039a164-f9de-4f94-95a6-184a3542ed5a"
      },
      "outputs": [],
      "source": [
        "from sklearn.datasets import fetch_california_housing\n",
        "?fetch_california_housing"
      ]
    },
    {
      "cell_type": "code",
      "execution_count": null,
      "id": "ab74b996-fca7-41ee-a4a2-f43aa5876679",
      "metadata": {
        "id": "ab74b996-fca7-41ee-a4a2-f43aa5876679"
      },
      "outputs": [],
      "source": [
        "housing_data = fetch_california_housing()"
      ]
    },
    {
      "cell_type": "code",
      "execution_count": null,
      "id": "5cb7178f-a4ac-47d8-91f3-f74daa706342",
      "metadata": {
        "id": "5cb7178f-a4ac-47d8-91f3-f74daa706342",
        "outputId": "be653824-0f29-40bd-dc65-f3bbaf1ed808",
        "colab": {
          "base_uri": "https://localhost:8080/"
        }
      },
      "outputs": [
        {
          "output_type": "execute_result",
          "data": {
            "text/plain": [
              "sklearn.utils.Bunch"
            ]
          },
          "metadata": {},
          "execution_count": 19
        }
      ],
      "source": [
        "type(housing_data)"
      ]
    },
    {
      "cell_type": "code",
      "execution_count": null,
      "id": "e5233e9b-38ee-46ad-8862-e6379a2bfd3b",
      "metadata": {
        "id": "e5233e9b-38ee-46ad-8862-e6379a2bfd3b",
        "outputId": "f698a9e9-de36-4d36-cd23-838f83e73577",
        "colab": {
          "base_uri": "https://localhost:8080/"
        }
      },
      "outputs": [
        {
          "output_type": "execute_result",
          "data": {
            "text/plain": [
              "['MedInc',\n",
              " 'HouseAge',\n",
              " 'AveRooms',\n",
              " 'AveBedrms',\n",
              " 'Population',\n",
              " 'AveOccup',\n",
              " 'Latitude',\n",
              " 'Longitude']"
            ]
          },
          "metadata": {},
          "execution_count": 20
        }
      ],
      "source": [
        "housing_data.feature_names"
      ]
    },
    {
      "cell_type": "code",
      "execution_count": null,
      "id": "f1429ae1-57e1-49ad-930d-f9cc161dea1c",
      "metadata": {
        "id": "f1429ae1-57e1-49ad-930d-f9cc161dea1c",
        "outputId": "ea39b131-0b47-4c36-ee92-1cd752df59c5",
        "colab": {
          "base_uri": "https://localhost:8080/"
        }
      },
      "outputs": [
        {
          "output_type": "execute_result",
          "data": {
            "text/plain": [
              "(20640,)"
            ]
          },
          "metadata": {},
          "execution_count": 21
        }
      ],
      "source": [
        "housing_data.target.shape"
      ]
    },
    {
      "cell_type": "code",
      "execution_count": null,
      "id": "0cde1477-bc60-48ce-99d2-1ed65aa67bf5",
      "metadata": {
        "id": "0cde1477-bc60-48ce-99d2-1ed65aa67bf5",
        "outputId": "74e12741-f6b3-482e-fcc9-741fa27dd79c",
        "colab": {
          "base_uri": "https://localhost:8080/"
        }
      },
      "outputs": [
        {
          "output_type": "execute_result",
          "data": {
            "text/plain": [
              "(20640, 8)"
            ]
          },
          "metadata": {},
          "execution_count": 22
        }
      ],
      "source": [
        "housing_data.data.shape"
      ]
    },
    {
      "cell_type": "code",
      "execution_count": null,
      "id": "1d219082-aa05-4290-9262-6d9d8c01f4d8",
      "metadata": {
        "id": "1d219082-aa05-4290-9262-6d9d8c01f4d8",
        "outputId": "3a122303-e1fd-40c8-ef11-d0d732260e36",
        "colab": {
          "base_uri": "https://localhost:8080/"
        }
      },
      "outputs": [
        {
          "output_type": "execute_result",
          "data": {
            "text/plain": [
              "array([[ 8.32520000e+00,  4.10000000e+01,  6.98412698e+00,\n",
              "         1.02380952e+00,  3.22000000e+02,  2.55555556e+00,\n",
              "         3.78800000e+01, -1.22230000e+02],\n",
              "       [ 8.30140000e+00,  2.10000000e+01,  6.23813708e+00,\n",
              "         9.71880492e-01,  2.40100000e+03,  2.10984183e+00,\n",
              "         3.78600000e+01, -1.22220000e+02],\n",
              "       [ 7.25740000e+00,  5.20000000e+01,  8.28813559e+00,\n",
              "         1.07344633e+00,  4.96000000e+02,  2.80225989e+00,\n",
              "         3.78500000e+01, -1.22240000e+02],\n",
              "       [ 5.64310000e+00,  5.20000000e+01,  5.81735160e+00,\n",
              "         1.07305936e+00,  5.58000000e+02,  2.54794521e+00,\n",
              "         3.78500000e+01, -1.22250000e+02],\n",
              "       [ 3.84620000e+00,  5.20000000e+01,  6.28185328e+00,\n",
              "         1.08108108e+00,  5.65000000e+02,  2.18146718e+00,\n",
              "         3.78500000e+01, -1.22250000e+02]])"
            ]
          },
          "metadata": {},
          "execution_count": 23
        }
      ],
      "source": [
        "housing_data.data[:5]"
      ]
    },
    {
      "cell_type": "code",
      "execution_count": null,
      "id": "5527df2e-56e4-4a32-8eab-bd995825e281",
      "metadata": {
        "id": "5527df2e-56e4-4a32-8eab-bd995825e281",
        "outputId": "0ef91885-6144-4614-f88f-375c516583f8",
        "colab": {
          "base_uri": "https://localhost:8080/"
        }
      },
      "outputs": [
        {
          "output_type": "execute_result",
          "data": {
            "text/plain": [
              "array([4.526, 3.585, 3.521, 3.413, 3.422])"
            ]
          },
          "metadata": {},
          "execution_count": 24
        }
      ],
      "source": [
        "housing_data.target[:5]"
      ]
    },
    {
      "cell_type": "code",
      "execution_count": null,
      "id": "c6b4f942-b5a0-4bf9-bea1-a266f5f7f4d5",
      "metadata": {
        "id": "c6b4f942-b5a0-4bf9-bea1-a266f5f7f4d5",
        "outputId": "8699140f-d2b3-4492-9bfd-d6448f20bf61",
        "colab": {
          "base_uri": "https://localhost:8080/"
        }
      },
      "outputs": [
        {
          "output_type": "execute_result",
          "data": {
            "text/plain": [
              "['MedHouseVal']"
            ]
          },
          "metadata": {},
          "execution_count": 25
        }
      ],
      "source": [
        "housing_data.target_names"
      ]
    },
    {
      "cell_type": "code",
      "execution_count": null,
      "id": "80c5efc7-89f9-4a30-9f0e-492cf4edaf62",
      "metadata": {
        "id": "80c5efc7-89f9-4a30-9f0e-492cf4edaf62",
        "outputId": "8f507c39-c4f6-4705-e82c-00fd3b084b6e",
        "colab": {
          "base_uri": "https://localhost:8080/"
        }
      },
      "outputs": [
        {
          "output_type": "execute_result",
          "data": {
            "text/plain": [
              "'.. _california_housing_dataset:\\n\\nCalifornia Housing dataset\\n--------------------------\\n\\n**Data Set Characteristics:**\\n\\n    :Number of Instances: 20640\\n\\n    :Number of Attributes: 8 numeric, predictive attributes and the target\\n\\n    :Attribute Information:\\n        - MedInc        median income in block group\\n        - HouseAge      median house age in block group\\n        - AveRooms      average number of rooms per household\\n        - AveBedrms     average number of bedrooms per household\\n        - Population    block group population\\n        - AveOccup      average number of household members\\n        - Latitude      block group latitude\\n        - Longitude     block group longitude\\n\\n    :Missing Attribute Values: None\\n\\nThis dataset was obtained from the StatLib repository.\\nhttps://www.dcc.fc.up.pt/~ltorgo/Regression/cal_housing.html\\n\\nThe target variable is the median house value for California districts,\\nexpressed in hundreds of thousands of dollars ($100,000).\\n\\nThis dataset was derived from the 1990 U.S. census, using one row per census\\nblock group. A block group is the smallest geographical unit for which the U.S.\\nCensus Bureau publishes sample data (a block group typically has a population\\nof 600 to 3,000 people).\\n\\nAn household is a group of people residing within a home. Since the average\\nnumber of rooms and bedrooms in this dataset are provided per household, these\\ncolumns may take surpinsingly large values for block groups with few households\\nand many empty houses, such as vacation resorts.\\n\\nIt can be downloaded/loaded using the\\n:func:`sklearn.datasets.fetch_california_housing` function.\\n\\n.. topic:: References\\n\\n    - Pace, R. Kelley and Ronald Barry, Sparse Spatial Autoregressions,\\n      Statistics and Probability Letters, 33 (1997) 291-297\\n'"
            ],
            "application/vnd.google.colaboratory.intrinsic+json": {
              "type": "string"
            }
          },
          "metadata": {},
          "execution_count": 26
        }
      ],
      "source": [
        "housing_data.DESCR"
      ]
    },
    {
      "cell_type": "markdown",
      "id": "26b1a798-2af1-4fcc-9ea8-0455e85b613a",
      "metadata": {
        "id": "26b1a798-2af1-4fcc-9ea8-0455e85b613a"
      },
      "source": [
        "# Generators"
      ]
    },
    {
      "cell_type": "code",
      "execution_count": null,
      "id": "49598346-190c-45e4-b9ac-161b32170db4",
      "metadata": {
        "id": "49598346-190c-45e4-b9ac-161b32170db4"
      },
      "outputs": [],
      "source": [
        "from sklearn.datasets import make_regression\n",
        "?make_regression"
      ]
    },
    {
      "cell_type": "code",
      "execution_count": null,
      "id": "7b4327d7-6e1d-4160-a14a-bffb9c1fc949",
      "metadata": {
        "id": "7b4327d7-6e1d-4160-a14a-bffb9c1fc949",
        "outputId": "1dc8048f-c983-4ac9-bb27-c5df8714c956",
        "colab": {
          "base_uri": "https://localhost:8080/"
        }
      },
      "outputs": [
        {
          "output_type": "execute_result",
          "data": {
            "text/plain": [
              "(100, 5)"
            ]
          },
          "metadata": {},
          "execution_count": 28
        }
      ],
      "source": [
        "X, y = make_regression(n_samples=100, n_features=5, n_targets=1, shuffle=True, random_state=45)\n",
        "X.shape"
      ]
    },
    {
      "cell_type": "code",
      "execution_count": null,
      "id": "aecf7514-c7b6-432f-9298-6214cfad6d44",
      "metadata": {
        "id": "aecf7514-c7b6-432f-9298-6214cfad6d44",
        "outputId": "cf398eab-ff7e-49ef-fa27-d50acb40a9c8",
        "colab": {
          "base_uri": "https://localhost:8080/"
        }
      },
      "outputs": [
        {
          "output_type": "execute_result",
          "data": {
            "text/plain": [
              "(100,)"
            ]
          },
          "metadata": {},
          "execution_count": 29
        }
      ],
      "source": [
        "y.shape"
      ]
    },
    {
      "cell_type": "code",
      "execution_count": null,
      "id": "4ef8a05b-7473-447c-9157-5e8fd78f7bc1",
      "metadata": {
        "id": "4ef8a05b-7473-447c-9157-5e8fd78f7bc1",
        "outputId": "32bfde98-e0d5-4c76-e504-5256057a5949",
        "colab": {
          "base_uri": "https://localhost:8080/"
        }
      },
      "outputs": [
        {
          "output_type": "execute_result",
          "data": {
            "text/plain": [
              "(100, 5)"
            ]
          },
          "metadata": {},
          "execution_count": 30
        }
      ],
      "source": [
        "X, y = make_regression(n_samples=100, n_features=5, n_targets=5, shuffle=True, random_state=45)\n",
        "X.shape"
      ]
    },
    {
      "cell_type": "code",
      "execution_count": null,
      "id": "6f757878-9f22-482d-8fc1-41cc6efa1636",
      "metadata": {
        "id": "6f757878-9f22-482d-8fc1-41cc6efa1636",
        "outputId": "11dc3ff3-0ea8-4020-94c3-8a7fef24fa97",
        "colab": {
          "base_uri": "https://localhost:8080/"
        }
      },
      "outputs": [
        {
          "output_type": "execute_result",
          "data": {
            "text/plain": [
              "(100, 5)"
            ]
          },
          "metadata": {},
          "execution_count": 31
        }
      ],
      "source": [
        "y.shape"
      ]
    },
    {
      "cell_type": "code",
      "execution_count": null,
      "id": "a2faddc9-f5c3-40d4-987c-c26a131bd3cb",
      "metadata": {
        "id": "a2faddc9-f5c3-40d4-987c-c26a131bd3cb"
      },
      "outputs": [],
      "source": [
        "from sklearn.datasets import make_classification\n",
        "?make_classification"
      ]
    },
    {
      "cell_type": "code",
      "execution_count": null,
      "id": "fee89008-1475-492a-a282-ca2f08aac9a0",
      "metadata": {
        "id": "fee89008-1475-492a-a282-ca2f08aac9a0"
      },
      "outputs": [],
      "source": [
        "X, y = make_classification(n_samples=100, n_features=10, n_classes=2, n_clusters_per_class=1, random_state=42)"
      ]
    },
    {
      "cell_type": "code",
      "execution_count": null,
      "id": "faabe85e-3bc6-47de-9450-5b1a7cb2172f",
      "metadata": {
        "id": "faabe85e-3bc6-47de-9450-5b1a7cb2172f",
        "outputId": "ef10df7c-2e9c-4315-c5d8-b4f2c2a22bca",
        "colab": {
          "base_uri": "https://localhost:8080/"
        }
      },
      "outputs": [
        {
          "output_type": "execute_result",
          "data": {
            "text/plain": [
              "(100, 10)"
            ]
          },
          "metadata": {},
          "execution_count": 34
        }
      ],
      "source": [
        "X.shape"
      ]
    },
    {
      "cell_type": "code",
      "execution_count": null,
      "id": "9ce84261-b66a-4e02-be05-af0670f9138f",
      "metadata": {
        "id": "9ce84261-b66a-4e02-be05-af0670f9138f",
        "outputId": "76237ea1-f9b8-48e3-d4a9-d33c0c100e16",
        "colab": {
          "base_uri": "https://localhost:8080/"
        }
      },
      "outputs": [
        {
          "output_type": "execute_result",
          "data": {
            "text/plain": [
              "(100,)"
            ]
          },
          "metadata": {},
          "execution_count": 35
        }
      ],
      "source": [
        "y.shape"
      ]
    },
    {
      "cell_type": "code",
      "execution_count": null,
      "id": "ff139486-f809-4ae8-a75b-6e5af5030bb5",
      "metadata": {
        "id": "ff139486-f809-4ae8-a75b-6e5af5030bb5",
        "outputId": "14616aaa-b33a-493a-e9e1-bb3c925a46fc",
        "colab": {
          "base_uri": "https://localhost:8080/"
        }
      },
      "outputs": [
        {
          "output_type": "execute_result",
          "data": {
            "text/plain": [
              "(100, 20)"
            ]
          },
          "metadata": {},
          "execution_count": 36
        }
      ],
      "source": [
        "from sklearn.datasets import make_multilabel_classification \n",
        "X, y = make_multilabel_classification(n_samples=100, n_features=20, n_classes=5, n_labels=2)\n",
        "X.shape"
      ]
    },
    {
      "cell_type": "code",
      "execution_count": null,
      "id": "db7da4b3-9df0-4e5f-ac77-376742f3451f",
      "metadata": {
        "id": "db7da4b3-9df0-4e5f-ac77-376742f3451f",
        "outputId": "9a54e064-de0b-483e-85d8-ba40308dc7dd",
        "colab": {
          "base_uri": "https://localhost:8080/"
        }
      },
      "outputs": [
        {
          "output_type": "execute_result",
          "data": {
            "text/plain": [
              "(100, 5)"
            ]
          },
          "metadata": {},
          "execution_count": 37
        }
      ],
      "source": [
        "y.shape"
      ]
    },
    {
      "cell_type": "code",
      "execution_count": null,
      "id": "f8751b0d-d113-48e9-9df4-e794eac0346a",
      "metadata": {
        "id": "f8751b0d-d113-48e9-9df4-e794eac0346a"
      },
      "outputs": [],
      "source": [
        "from sklearn.datasets import make_blobs\n",
        "?make_blobs"
      ]
    },
    {
      "cell_type": "code",
      "execution_count": null,
      "id": "429b8bd9-5949-4730-9547-a4558bb26f67",
      "metadata": {
        "id": "429b8bd9-5949-4730-9547-a4558bb26f67",
        "outputId": "5bde46b3-b723-4795-942d-7498c7988a6e",
        "colab": {
          "base_uri": "https://localhost:8080/"
        }
      },
      "outputs": [
        {
          "output_type": "execute_result",
          "data": {
            "text/plain": [
              "(10, 2)"
            ]
          },
          "metadata": {},
          "execution_count": 39
        }
      ],
      "source": [
        "X, y = make_blobs(n_samples=10, centers=3, n_features=2, random_state=42)\n",
        "X.shape"
      ]
    },
    {
      "cell_type": "code",
      "execution_count": null,
      "id": "d7c7e540-88ec-4816-bf36-00369d4239ea",
      "metadata": {
        "id": "d7c7e540-88ec-4816-bf36-00369d4239ea",
        "outputId": "2fe922b9-428a-4945-d6b0-726601621a4c",
        "colab": {
          "base_uri": "https://localhost:8080/"
        }
      },
      "outputs": [
        {
          "output_type": "execute_result",
          "data": {
            "text/plain": [
              "(10,)"
            ]
          },
          "metadata": {},
          "execution_count": 40
        }
      ],
      "source": [
        "y.shape"
      ]
    },
    {
      "cell_type": "code",
      "execution_count": null,
      "id": "00e4266d-c208-4093-94cf-9c0b29483eeb",
      "metadata": {
        "id": "00e4266d-c208-4093-94cf-9c0b29483eeb",
        "outputId": "6dc02863-d1f8-485f-acb9-337ab0fb7d42",
        "colab": {
          "base_uri": "https://localhost:8080/"
        }
      },
      "outputs": [
        {
          "output_type": "execute_result",
          "data": {
            "text/plain": [
              "(569, 30)"
            ]
          },
          "metadata": {},
          "execution_count": 41
        }
      ],
      "source": [
        "from sklearn.datasets import load_breast_cancer\n",
        "data = load_breast_cancer()\n",
        "data.data.shape"
      ]
    },
    {
      "cell_type": "code",
      "execution_count": null,
      "id": "3ee0df36-718e-4b8f-a763-83411cacec19",
      "metadata": {
        "id": "3ee0df36-718e-4b8f-a763-83411cacec19",
        "outputId": "9919a08a-3d37-48d8-b754-dbca019cf412",
        "colab": {
          "base_uri": "https://localhost:8080/"
        }
      },
      "outputs": [
        {
          "output_type": "execute_result",
          "data": {
            "text/plain": [
              "array(['malignant', 'benign'], dtype='<U9')"
            ]
          },
          "metadata": {},
          "execution_count": 42
        }
      ],
      "source": [
        "data.target_names"
      ]
    },
    {
      "cell_type": "code",
      "execution_count": null,
      "id": "c06c895a-a3b0-4bb3-b4d9-7669212eb62d",
      "metadata": {
        "id": "c06c895a-a3b0-4bb3-b4d9-7669212eb62d",
        "outputId": "77ea0fc4-a87f-483e-e2c4-78df4081c89e",
        "colab": {
          "base_uri": "https://localhost:8080/"
        }
      },
      "outputs": [
        {
          "output_type": "execute_result",
          "data": {
            "text/plain": [
              "sklearn.utils.Bunch"
            ]
          },
          "metadata": {},
          "execution_count": 43
        }
      ],
      "source": [
        "type(data)"
      ]
    },
    {
      "cell_type": "code",
      "execution_count": null,
      "id": "974c5504-2701-45ac-832a-f5c950f37556",
      "metadata": {
        "id": "974c5504-2701-45ac-832a-f5c950f37556",
        "outputId": "c37e4c2e-d2e6-4bfc-e5b2-754f7b073027",
        "colab": {
          "base_uri": "https://localhost:8080/"
        }
      },
      "outputs": [
        {
          "output_type": "execute_result",
          "data": {
            "text/plain": [
              "'.. _breast_cancer_dataset:\\n\\nBreast cancer wisconsin (diagnostic) dataset\\n--------------------------------------------\\n\\n**Data Set Characteristics:**\\n\\n    :Number of Instances: 569\\n\\n    :Number of Attributes: 30 numeric, predictive attributes and the class\\n\\n    :Attribute Information:\\n        - radius (mean of distances from center to points on the perimeter)\\n        - texture (standard deviation of gray-scale values)\\n        - perimeter\\n        - area\\n        - smoothness (local variation in radius lengths)\\n        - compactness (perimeter^2 / area - 1.0)\\n        - concavity (severity of concave portions of the contour)\\n        - concave points (number of concave portions of the contour)\\n        - symmetry\\n        - fractal dimension (\"coastline approximation\" - 1)\\n\\n        The mean, standard error, and \"worst\" or largest (mean of the three\\n        worst/largest values) of these features were computed for each image,\\n        resulting in 30 features.  For instance, field 0 is Mean Radius, field\\n        10 is Radius SE, field 20 is Worst Radius.\\n\\n        - class:\\n                - WDBC-Malignant\\n                - WDBC-Benign\\n\\n    :Summary Statistics:\\n\\n    ===================================== ====== ======\\n                                           Min    Max\\n    ===================================== ====== ======\\n    radius (mean):                        6.981  28.11\\n    texture (mean):                       9.71   39.28\\n    perimeter (mean):                     43.79  188.5\\n    area (mean):                          143.5  2501.0\\n    smoothness (mean):                    0.053  0.163\\n    compactness (mean):                   0.019  0.345\\n    concavity (mean):                     0.0    0.427\\n    concave points (mean):                0.0    0.201\\n    symmetry (mean):                      0.106  0.304\\n    fractal dimension (mean):             0.05   0.097\\n    radius (standard error):              0.112  2.873\\n    texture (standard error):             0.36   4.885\\n    perimeter (standard error):           0.757  21.98\\n    area (standard error):                6.802  542.2\\n    smoothness (standard error):          0.002  0.031\\n    compactness (standard error):         0.002  0.135\\n    concavity (standard error):           0.0    0.396\\n    concave points (standard error):      0.0    0.053\\n    symmetry (standard error):            0.008  0.079\\n    fractal dimension (standard error):   0.001  0.03\\n    radius (worst):                       7.93   36.04\\n    texture (worst):                      12.02  49.54\\n    perimeter (worst):                    50.41  251.2\\n    area (worst):                         185.2  4254.0\\n    smoothness (worst):                   0.071  0.223\\n    compactness (worst):                  0.027  1.058\\n    concavity (worst):                    0.0    1.252\\n    concave points (worst):               0.0    0.291\\n    symmetry (worst):                     0.156  0.664\\n    fractal dimension (worst):            0.055  0.208\\n    ===================================== ====== ======\\n\\n    :Missing Attribute Values: None\\n\\n    :Class Distribution: 212 - Malignant, 357 - Benign\\n\\n    :Creator:  Dr. William H. Wolberg, W. Nick Street, Olvi L. Mangasarian\\n\\n    :Donor: Nick Street\\n\\n    :Date: November, 1995\\n\\nThis is a copy of UCI ML Breast Cancer Wisconsin (Diagnostic) datasets.\\nhttps://goo.gl/U2Uwz2\\n\\nFeatures are computed from a digitized image of a fine needle\\naspirate (FNA) of a breast mass.  They describe\\ncharacteristics of the cell nuclei present in the image.\\n\\nSeparating plane described above was obtained using\\nMultisurface Method-Tree (MSM-T) [K. P. Bennett, \"Decision Tree\\nConstruction Via Linear Programming.\" Proceedings of the 4th\\nMidwest Artificial Intelligence and Cognitive Science Society,\\npp. 97-101, 1992], a classification method which uses linear\\nprogramming to construct a decision tree.  Relevant features\\nwere selected using an exhaustive search in the space of 1-4\\nfeatures and 1-3 separating planes.\\n\\nThe actual linear program used to obtain the separating plane\\nin the 3-dimensional space is that described in:\\n[K. P. Bennett and O. L. Mangasarian: \"Robust Linear\\nProgramming Discrimination of Two Linearly Inseparable Sets\",\\nOptimization Methods and Software 1, 1992, 23-34].\\n\\nThis database is also available through the UW CS ftp server:\\n\\nftp ftp.cs.wisc.edu\\ncd math-prog/cpo-dataset/machine-learn/WDBC/\\n\\n.. topic:: References\\n\\n   - W.N. Street, W.H. Wolberg and O.L. Mangasarian. Nuclear feature extraction \\n     for breast tumor diagnosis. IS&T/SPIE 1993 International Symposium on \\n     Electronic Imaging: Science and Technology, volume 1905, pages 861-870,\\n     San Jose, CA, 1993.\\n   - O.L. Mangasarian, W.N. Street and W.H. Wolberg. Breast cancer diagnosis and \\n     prognosis via linear programming. Operations Research, 43(4), pages 570-577, \\n     July-August 1995.\\n   - W.H. Wolberg, W.N. Street, and O.L. Mangasarian. Machine learning techniques\\n     to diagnose breast cancer from fine-needle aspirates. Cancer Letters 77 (1994) \\n     163-171.'"
            ],
            "application/vnd.google.colaboratory.intrinsic+json": {
              "type": "string"
            }
          },
          "metadata": {},
          "execution_count": 44
        }
      ],
      "source": [
        "data.DESCR"
      ]
    },
    {
      "cell_type": "code",
      "execution_count": null,
      "id": "407f6b48-8bc2-456b-bd81-3084a25ef7e4",
      "metadata": {
        "id": "407f6b48-8bc2-456b-bd81-3084a25ef7e4"
      },
      "outputs": [],
      "source": []
    }
  ],
  "metadata": {
    "kernelspec": {
      "display_name": "Python 3",
      "language": "python",
      "name": "python3"
    },
    "language_info": {
      "codemirror_mode": {
        "name": "ipython",
        "version": 3
      },
      "file_extension": ".py",
      "mimetype": "text/x-python",
      "name": "python",
      "nbconvert_exporter": "python",
      "pygments_lexer": "ipython3",
      "version": "3.8.8"
    },
    "colab": {
      "provenance": [],
      "include_colab_link": true
    }
  },
  "nbformat": 4,
  "nbformat_minor": 5
}