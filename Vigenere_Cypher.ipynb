{
  "nbformat": 4,
  "nbformat_minor": 0,
  "metadata": {
    "colab": {
      "name": "Vigenere Cypher.ipynb",
      "provenance": [],
      "include_colab_link": true
    },
    "kernelspec": {
      "name": "python3",
      "display_name": "Python 3"
    },
    "language_info": {
      "name": "python"
    }
  },
  "cells": [
    {
      "cell_type": "markdown",
      "metadata": {
        "id": "view-in-github",
        "colab_type": "text"
      },
      "source": [
        "<a href=\"https://colab.research.google.com/github/srijita1406/Data-Analytics/blob/main/Vigenere_Cypher.ipynb\" target=\"_parent\"><img src=\"https://colab.research.google.com/assets/colab-badge.svg\" alt=\"Open In Colab\"/></a>"
      ]
    },
    {
      "cell_type": "code",
      "metadata": {
        "id": "ZUOjXqmSO1-I",
        "colab": {
          "base_uri": "https://localhost:8080/"
        },
        "outputId": "0e115add-af66-4180-92cc-a6ea1197b038"
      },
      "source": [
        "import string\n",
        "import matplotlib.pyplot as plt\n",
        "from google.colab import drive\n",
        "drive.mount('/content/drive')"
      ],
      "execution_count": null,
      "outputs": [
        {
          "output_type": "stream",
          "name": "stdout",
          "text": [
            "Drive already mounted at /content/drive; to attempt to forcibly remount, call drive.mount(\"/content/drive\", force_remount=True).\n"
          ]
        }
      ]
    },
    {
      "cell_type": "code",
      "metadata": {
        "id": "9kZpbGmLRjPa"
      },
      "source": [
        "def textstrip(filename):\n",
        "  '''This takes the file and converts it to a string with all the spaces and other\n",
        "  special characters removed. What remains is only the lower case letters,\n",
        "  retain only the lowercase letters!\n",
        "  '''\n",
        "  alpha = string.ascii_lowercase # string of lowercae letters\n",
        "  f = open(filename, \"r\").read() # open file, \"r\" means that this file is supposed to be read only.\n",
        "  f = f.replace(\"\\n\", \"\").lower() # replace all \\n with empty string\n",
        "  T = \"\" # remove all none alphabetic charecters\n",
        "  for x in f:\n",
        "    if x in alpha:\n",
        "      T += x\n",
        "  return T"
      ],
      "execution_count": null,
      "outputs": []
    },
    {
      "cell_type": "code",
      "metadata": {
        "id": "HkmFxG0sXGXE",
        "colab": {
          "base_uri": "https://localhost:8080/",
          "height": 17
        },
        "outputId": "23cf8795-e518-410d-ff0c-3eb573c958a6"
      },
      "source": [
        "S = textstrip(\"/content/drive/MyDrive/sherlock.txt\") # testcase\n",
        "f = open(\"textstripped.txt\", \"w\").write(S)\n",
        "from google.colab import files\n",
        "files.download('textstripped.txt') "
      ],
      "execution_count": null,
      "outputs": [
        {
          "output_type": "display_data",
          "data": {
            "text/plain": [
              "<IPython.core.display.Javascript object>"
            ],
            "application/javascript": [
              "\n",
              "    async function download(id, filename, size) {\n",
              "      if (!google.colab.kernel.accessAllowed) {\n",
              "        return;\n",
              "      }\n",
              "      const div = document.createElement('div');\n",
              "      const label = document.createElement('label');\n",
              "      label.textContent = `Downloading \"${filename}\": `;\n",
              "      div.appendChild(label);\n",
              "      const progress = document.createElement('progress');\n",
              "      progress.max = size;\n",
              "      div.appendChild(progress);\n",
              "      document.body.appendChild(div);\n",
              "\n",
              "      const buffers = [];\n",
              "      let downloaded = 0;\n",
              "\n",
              "      const channel = await google.colab.kernel.comms.open(id);\n",
              "      // Send a message to notify the kernel that we're ready.\n",
              "      channel.send({})\n",
              "\n",
              "      for await (const message of channel.messages) {\n",
              "        // Send a message to notify the kernel that we're ready.\n",
              "        channel.send({})\n",
              "        if (message.buffers) {\n",
              "          for (const buffer of message.buffers) {\n",
              "            buffers.push(buffer);\n",
              "            downloaded += buffer.byteLength;\n",
              "            progress.value = downloaded;\n",
              "          }\n",
              "        }\n",
              "      }\n",
              "      const blob = new Blob(buffers, {type: 'application/binary'});\n",
              "      const a = document.createElement('a');\n",
              "      a.href = window.URL.createObjectURL(blob);\n",
              "      a.download = filename;\n",
              "      div.appendChild(a);\n",
              "      a.click();\n",
              "      div.remove();\n",
              "    }\n",
              "  "
            ]
          },
          "metadata": {}
        },
        {
          "output_type": "display_data",
          "data": {
            "text/plain": [
              "<IPython.core.display.Javascript object>"
            ],
            "application/javascript": [
              "download(\"download_21c8405d-36af-4a49-9120-e89c6efefd4a\", \"textstripped.txt\", 245940)"
            ]
          },
          "metadata": {}
        }
      ]
    },
    {
      "cell_type": "code",
      "metadata": {
        "colab": {
          "base_uri": "https://localhost:8080/"
        },
        "id": "v5XRBN2HTGvh",
        "outputId": "04a0a294-851b-4bde-821f-543a1732390f"
      },
      "source": [
        "def letter_distribution(s):\n",
        "  '''Consider the string s which comprises of only lowercase letters. Count\n",
        "  the number of occurrences of each letter and return a dictionary'''\n",
        "  alpha = string.ascii_lowercase\n",
        "  d = dict.fromkeys(alpha, 0) # creating dict with keys as all alphabets and values 0 for each key\n",
        "  for x in alpha: # incrementing value of count for each alphabet\n",
        "    for y in s:\n",
        "      if y == x:\n",
        "        d[x]+=1\n",
        "  return d\n",
        "print(letter_distribution(S)) # testcase\n",
        "\n",
        "# alternate method\n",
        "# def letter_distribution(s):\n",
        "#   '''Consider the string s which comprises of only lowercase letters. Count\n",
        "#   the number of occurrences of each letter and return a dictionary'''\n",
        "#   alpha = string.ascii_lowercase # string of all lowercase letters\n",
        "#   d = {} #initialize empty dict\n",
        "#   for x in alpha: # inititalize dict \n",
        "#     d[x] = 0 \n",
        "#   for x in s: # increment for each letter in dict\n",
        "#     d[x] = d[x] + 1\n",
        "#   return d # answer \n",
        "# print(letter_distribution(S)) # test case\n",
        "#   # d = dict.fromkeys(alpha, 0)"
      ],
      "execution_count": null,
      "outputs": [
        {
          "output_type": "stream",
          "name": "stdout",
          "text": [
            "{'a': 19696, 'b': 3568, 'c': 5932, 'd': 10456, 'e': 30051, 'f': 5165, 'g': 4350, 'h': 16759, 'i': 17081, 'j': 157, 'k': 1935, 'l': 9713, 'm': 6640, 'n': 16399, 'o': 19346, 'p': 3795, 'q': 191, 'r': 14419, 's': 15336, 't': 22671, 'u': 7479, 'v': 2606, 'w': 6463, 'x': 377, 'y': 5243, 'z': 112}\n"
          ]
        }
      ]
    },
    {
      "cell_type": "code",
      "metadata": {
        "id": "y5DyHq35WeHG"
      },
      "source": [
        "def substitution_encrypt(s,d):\n",
        "  '''encrypt the contents of s by using the dictionary d which comprises of\n",
        "  the substitutions for the 26 letters. Return the resulting string'''\n",
        "  T = \"\" # initialize empty string\n",
        "  for x in s: # iterate over given string\n",
        "    T = T + d[x] # shift each letter acc to given dict and append it to T\n",
        "  return T"
      ],
      "execution_count": null,
      "outputs": []
    },
    {
      "cell_type": "code",
      "metadata": {
        "colab": {
          "base_uri": "https://localhost:8080/"
        },
        "id": "53-ARjLwbtEF",
        "outputId": "c2fafe94-e9a9-4192-c4a4-b71cc4d8423a"
      },
      "source": [
        "# testcase\n",
        "import string\n",
        "alpha = string.ascii_lowercase\n",
        "# d = {}\n",
        "# for x in range(len(alpha)):\n",
        "#   d[alpha[x]] = alpha[(x+7)%26\n",
        "d = {alpha[x]:alpha[(x+7)%26] for x in range(len(alpha))} \n",
        "print(d)\n",
        "print(S[:100])\n",
        "encrypted = substitution_encrypt(S,d)\n",
        "print(encrypted[:100])"
      ],
      "execution_count": null,
      "outputs": [
        {
          "output_type": "stream",
          "name": "stdout",
          "text": [
            "{'a': 'h', 'b': 'i', 'c': 'j', 'd': 'k', 'e': 'l', 'f': 'm', 'g': 'n', 'h': 'o', 'i': 'p', 'j': 'q', 'k': 'r', 'l': 's', 'm': 't', 'n': 'u', 'o': 'v', 'p': 'w', 'q': 'x', 'r': 'y', 's': 'z', 't': 'a', 'u': 'b', 'v': 'c', 'w': 'd', 'x': 'e', 'y': 'f', 'z': 'g'}\n",
            "contentschaptermrsherlockholmeschapterthecurseofthebaskervilleschaptertheproblemchaptersirhenrybaske\n",
            "jvualuazjohwalytyzolysvjrovstlzjohwalyaoljbyzlvmaolihzrlycpsslzjohwalyaolwyvisltjohwalyzpyoluyfihzrl\n"
          ]
        }
      ]
    },
    {
      "cell_type": "code",
      "metadata": {
        "id": "jTXmLR1fcSdy"
      },
      "source": [
        "def substitution_decrypt(s,d): \n",
        "  '''decrypt the contents of s by using the dictionary d which comprises of\n",
        "  the substitutions for the 26 letters. Return the resulting string\n",
        "  s is encrypted string\n",
        "  d = {real value : encrypted value}'''\n",
        "  new_dict = {}\n",
        "  for key in d.keys():\n",
        "    new_dict[d[key]] = key\n",
        "  return substitution_encrypt(s, new_dict)\n"
      ],
      "execution_count": null,
      "outputs": []
    },
    {
      "cell_type": "code",
      "metadata": {
        "colab": {
          "base_uri": "https://localhost:8080/"
        },
        "id": "r71P3T3XvVGn",
        "outputId": "5e56b040-aaa1-4250-b774-aae9b7e907ea"
      },
      "source": [
        "# testcase\n",
        "d = {alpha[x] : alpha[(x+1)%26] for x in range(len(alpha))} #creating key for cypher\n",
        "print(S[:100]) #origional text\n",
        "print(substitution_encrypt(S,d)[:100]) #encrypting the original text\n",
        "print(substitution_decrypt(substitution_encrypt(S,d),d)[:100]) #decripting the original text"
      ],
      "execution_count": null,
      "outputs": [
        {
          "output_type": "stream",
          "name": "stdout",
          "text": [
            "contentschaptermrsherlockholmeschapterthecurseofthebaskervilleschaptertheproblemchaptersirhenrybaske\n",
            "dpoufoutdibqufsnstifsmpdlipmnftdibqufsuifdvstfpguifcbtlfswjmmftdibqufsuifqspcmfndibqufstjsifoszcbtlf\n",
            "contentschaptermrsherlockholmeschapterthecurseofthebaskervilleschaptertheproblemchaptersirhenrybaske\n"
          ]
        }
      ]
    },
    {
      "cell_type": "code",
      "metadata": {
        "colab": {
          "base_uri": "https://localhost:8080/"
        },
        "id": "cDxAjiBmj3PK",
        "outputId": "1c51cfac-0d02-44bf-a246-da37324c797a"
      },
      "source": [
        "def max_dict_elem(d):\n",
        "  maxi = -1\n",
        "  for x in d:\n",
        "    if d[x] > maxi:\n",
        "      maxi = d[x]\n",
        "      max_el = x\n",
        "  return max_el\n",
        "print(max_dict_elem({\"a\":3,\"b\":1}))\n"
      ],
      "execution_count": null,
      "outputs": [
        {
          "output_type": "stream",
          "name": "stdout",
          "text": [
            "a\n"
          ]
        }
      ]
    },
    {
      "cell_type": "code",
      "metadata": {
        "id": "x8RtoUAQvqHC"
      },
      "source": [
        "def cryptanalyse_substitution(s):\n",
        "  '''Given that the string s is given to us and it is known that it was\n",
        "  encrypted using some substitution cipher, predict the d'''\n",
        "  alpha = string.ascii_lowercase\n",
        "  d = letter_distribution(s)\n",
        "  let = max_dict_elem(d)\n",
        "  n = (26 + alpha.index(let) - alpha.index(\"e\"))%26 #becuase e is max occuring letter and max occuring letter must not change\n",
        "  return n\n",
        "  # return {alpha[x] : alpha[(x+1)%26] for x in range(len(alpha))}\n",
        "\n",
        "# better method\n",
        "# def cryptanalyse_substitution(s,d):\n",
        "#   '''Given that the string s is given to us and it is known that it was\n",
        "#   encrypted using some substitution cipher, predict the key\n",
        "#   d is freq count of each alphabet in original string'''\n",
        "#   alpha = string.ascii_lowercase\n",
        "#   D = letter_distribution(s) #letter distribution of encrypted string\n",
        "#   # n is number of places by which each letter is shifted in encrypted string\n",
        "#   # value of n is differnece between index of max occuring element in encrypted and original string\n",
        "#   n = (26 + alpha.index(max_dict_elem(D)) - alpha.index(max_dict_elem(d)))%26 #add 26 and mod26 to avoid getting negative value\n",
        "#   return {alpha[x]:alpha[(x+n)%26] for x in range(26)}"
      ],
      "execution_count": null,
      "outputs": []
    },
    {
      "cell_type": "code",
      "metadata": {
        "colab": {
          "base_uri": "https://localhost:8080/"
        },
        "id": "Ii-Zcuw34Jgi",
        "outputId": "12e947b3-93f2-4dd9-9e19-58f00908bd40"
      },
      "source": [
        "#testcase\n",
        "d = {alpha[x] : alpha[(x+81)%26] for x in range(26)}\n",
        "print(d)\n",
        "# print(S)\n",
        "s = substitution_encrypt(S,d)\n",
        "# print(cryptanalyse_substitution(s, letter_distribution(S)))\n",
        "print(cryptanalyse_substitution(s))"
      ],
      "execution_count": null,
      "outputs": [
        {
          "output_type": "stream",
          "name": "stdout",
          "text": [
            "{'a': 'd', 'b': 'e', 'c': 'f', 'd': 'g', 'e': 'h', 'f': 'i', 'g': 'j', 'h': 'k', 'i': 'l', 'j': 'm', 'k': 'n', 'l': 'o', 'm': 'p', 'n': 'q', 'o': 'r', 'p': 's', 'q': 't', 'r': 'u', 's': 'v', 't': 'w', 'u': 'x', 'v': 'y', 'w': 'z', 'x': 'a', 'y': 'b', 'z': 'c'}\n",
            "3\n"
          ]
        }
      ]
    },
    {
      "cell_type": "code",
      "metadata": {
        "id": "V8p9skss8W7Q"
      },
      "source": [
        "def vigenere_encrypt(s,password):\n",
        "  '''Encrypt the string s based on the password the vigenere cipher way and\n",
        "  return the resulting string'''\n",
        "  T = \"\"\n",
        "  alpha = string.ascii_lowercase\n",
        "  n = len(password)\n",
        "  for x in range(len(s)):\n",
        "    # we are iterating over entire string once\n",
        "    # while we iterate through the string, we encrypt each element of string and append it to new var T\n",
        "    # thus encrypting the string in one loop\n",
        "    T += alpha[(alpha.index(s[x]) + alpha.index(password[x%n]) + 1 ) % 26]\n",
        "  return T"
      ],
      "execution_count": null,
      "outputs": []
    },
    {
      "cell_type": "code",
      "metadata": {
        "colab": {
          "base_uri": "https://localhost:8080/"
        },
        "id": "JZS5syORNytD",
        "outputId": "a6a5cde6-9f7b-464f-b55f-128a90730891"
      },
      "source": [
        "# testcase\n",
        "print(S[:100])\n",
        "print(vigenere_encrypt(S[:100],\"daisy\"))\n",
        "print(\"daisy\"*20)"
      ],
      "execution_count": null,
      "outputs": [
        {
          "output_type": "stream",
          "name": "stdout",
          "text": [
            "contentschaptermrsherlockholmeschapterthecurseofthebaskervilleschaptertheproblemchaptersirhenrybaske\n",
            "gpwmdrubvgeqcxqqsbadvmxvjlpufdwdqtoxfamgiddkripomgicjljisebkpfbvgeqcxqxiniqscuxlgijisisbbqlfwkxfbbdd\n",
            "daisydaisydaisydaisydaisydaisydaisydaisydaisydaisydaisydaisydaisydaisydaisydaisydaisydaisydaisydaisy\n"
          ]
        }
      ]
    },
    {
      "cell_type": "code",
      "metadata": {
        "id": "YQdcG9r3N5Lz"
      },
      "source": [
        "def vigenere_decrypt(s,password):\n",
        "  '''Decrypt the string s based on the password the vigenere cipher way and\n",
        "  return the resulting string'''\n",
        "  T = \"\"\n",
        "  alpha = string.ascii_lowercase\n",
        "  n = len(password)\n",
        "  for x in range(len(s)):\n",
        "    # we are iterating over entire string once\n",
        "    # while we iterate through the string, we encrypt each element of string and append it to new var T\n",
        "    # thus decrypting the string in one loop\n",
        "    T += alpha[(alpha.index(s[x]) - alpha.index(password[x%n]) - 1 )%26]\n",
        "  return T"
      ],
      "execution_count": null,
      "outputs": []
    },
    {
      "cell_type": "code",
      "metadata": {
        "colab": {
          "base_uri": "https://localhost:8080/"
        },
        "id": "-DPm5CwGRfyo",
        "outputId": "876d6786-ec4b-40a6-f159-8231b7fc59aa"
      },
      "source": [
        "# testcase\n",
        "# encrypting and the decripting string returns the original string\n",
        "print(vigenere_decrypt(vigenere_encrypt(S[:100],\"daisy\"), \"daisy\"))"
      ],
      "execution_count": null,
      "outputs": [
        {
          "output_type": "stream",
          "name": "stdout",
          "text": [
            "contentschaptermrsherlockholmeschapterthecurseofthebaskervilleschaptertheproblemchaptersirhenrybaske\n"
          ]
        }
      ]
    },
    {
      "cell_type": "code",
      "metadata": {
        "id": "GrYtlIHQSfrl"
      },
      "source": [
        "def rotate_compare(s,r):\n",
        "  '''This rotates the string s by r places and compares s(0) with s(r) and\n",
        "  returns the proportion of collisions'''\n",
        "  count = 0\n",
        "  n = len(s)\n",
        "  for x in range(len(s)):\n",
        "    # iterating over all possible values of r\n",
        "    # we increment count if we find collision\n",
        "    # s[x] is xth element of s\n",
        "    # s[(x+r)%n] it is xth element of rotated string\n",
        "    \n",
        "    if s[x] == s[(x+r)%n]:\n",
        "      count += 1\n",
        "  \n",
        "  return count/n"
      ],
      "execution_count": null,
      "outputs": []
    },
    {
      "cell_type": "code",
      "metadata": {
        "colab": {
          "base_uri": "https://localhost:8080/"
        },
        "id": "OA4UdiHGVVkm",
        "outputId": "12d85d6a-0c00-4e34-d71c-a10d31c586fa"
      },
      "source": [
        "# testcase\n",
        "# print(S[:100])\n",
        "print(rotate_compare(\"aabbccdd\",1))"
      ],
      "execution_count": null,
      "outputs": [
        {
          "output_type": "stream",
          "name": "stdout",
          "text": [
            "0.5\n"
          ]
        }
      ]
    },
    {
      "cell_type": "code",
      "metadata": {
        "id": "t_owm1MKmm6H"
      },
      "source": [
        "def cryptanalyse_vigenere_afterlength(s,k):\n",
        "  '''Given the string s which is known to be vigenere encrypted with a\n",
        "  password of length k, find out what is the password'''\n",
        "  # length of password is suppose k\n",
        "  # take first k letter of s and find by how many spaces they are shifted\n",
        "  # use cryptanalyse_substitution(s)\n",
        "  L = [\"\" for x in range(k)]\n",
        "  for i in range(len(s)):\n",
        "    L[i%k] += s[i]\n",
        "  L_shift =  [cryptanalyse_substitution(L[i]) for i in range(k)]\n",
        "  answer = \"\"\n",
        "  for x in L_shift:\n",
        "    answer += alpha[x-1]\n",
        "  return answer"
      ],
      "execution_count": null,
      "outputs": []
    },
    {
      "cell_type": "code",
      "metadata": {
        "colab": {
          "base_uri": "https://localhost:8080/",
          "height": 35
        },
        "id": "uo5o7-xtAGIx",
        "outputId": "5c9871ff-f31c-403d-f746-d2c9c8dfb907"
      },
      "source": [
        "cryptanalyse_vigenere_afterlength(vigenere_encrypt(S,\"sunflower\"),9)"
      ],
      "execution_count": null,
      "outputs": [
        {
          "output_type": "execute_result",
          "data": {
            "text/plain": [
              "'sunflower'"
            ],
            "application/vnd.google.colaboratory.intrinsic+json": {
              "type": "string"
            }
          },
          "metadata": {},
          "execution_count": 19
        }
      ]
    },
    {
      "cell_type": "code",
      "metadata": {
        "colab": {
          "base_uri": "https://localhost:8080/"
        },
        "id": "v0jUrmcpoIak",
        "outputId": "11b5eb38-fc4f-49da-ad55-fd8cf25fe136"
      },
      "source": [
        "print(vigenere_encrypt(S,\"daisy\")[:100])\n",
        "print(S[:100])"
      ],
      "execution_count": null,
      "outputs": [
        {
          "output_type": "stream",
          "name": "stdout",
          "text": [
            "gpwmdrubvgeqcxqqsbadvmxvjlpufdwdqtoxfamgiddkripomgicjljisebkpfbvgeqcxqxiniqscuxlgijisisbbqlfwkxfbbdd\n",
            "contentschaptermrsherlockholmeschapterthecurseofthebaskervilleschaptertheproblemchaptersirhenrybaske\n"
          ]
        }
      ]
    },
    {
      "cell_type": "code",
      "source": [
        "f1 = open(\"vigenere_encrypted.txt\", \"w\")\n",
        "f1.write(vigenere_encrypt(S,\"daisy\"))\n",
        "files.download('vigenere_encrypted.txt') "
      ],
      "metadata": {
        "colab": {
          "base_uri": "https://localhost:8080/",
          "height": 17
        },
        "id": "FUABFfWILV9n",
        "outputId": "c0f73120-18eb-479b-8857-36598bfc923f"
      },
      "execution_count": null,
      "outputs": [
        {
          "output_type": "display_data",
          "data": {
            "text/plain": [
              "<IPython.core.display.Javascript object>"
            ],
            "application/javascript": [
              "\n",
              "    async function download(id, filename, size) {\n",
              "      if (!google.colab.kernel.accessAllowed) {\n",
              "        return;\n",
              "      }\n",
              "      const div = document.createElement('div');\n",
              "      const label = document.createElement('label');\n",
              "      label.textContent = `Downloading \"${filename}\": `;\n",
              "      div.appendChild(label);\n",
              "      const progress = document.createElement('progress');\n",
              "      progress.max = size;\n",
              "      div.appendChild(progress);\n",
              "      document.body.appendChild(div);\n",
              "\n",
              "      const buffers = [];\n",
              "      let downloaded = 0;\n",
              "\n",
              "      const channel = await google.colab.kernel.comms.open(id);\n",
              "      // Send a message to notify the kernel that we're ready.\n",
              "      channel.send({})\n",
              "\n",
              "      for await (const message of channel.messages) {\n",
              "        // Send a message to notify the kernel that we're ready.\n",
              "        channel.send({})\n",
              "        if (message.buffers) {\n",
              "          for (const buffer of message.buffers) {\n",
              "            buffers.push(buffer);\n",
              "            downloaded += buffer.byteLength;\n",
              "            progress.value = downloaded;\n",
              "          }\n",
              "        }\n",
              "      }\n",
              "      const blob = new Blob(buffers, {type: 'application/binary'});\n",
              "      const a = document.createElement('a');\n",
              "      a.href = window.URL.createObjectURL(blob);\n",
              "      a.download = filename;\n",
              "      div.appendChild(a);\n",
              "      a.click();\n",
              "      div.remove();\n",
              "    }\n",
              "  "
            ]
          },
          "metadata": {}
        },
        {
          "output_type": "display_data",
          "data": {
            "text/plain": [
              "<IPython.core.display.Javascript object>"
            ],
            "application/javascript": [
              "download(\"download_a962ca68-811d-4bd8-b1ee-29fd21adbb4d\", \"vigenere_encrypted.txt\", 245940)"
            ]
          },
          "metadata": {}
        }
      ]
    },
    {
      "cell_type": "code",
      "metadata": {
        "colab": {
          "base_uri": "https://localhost:8080/",
          "height": 282
        },
        "id": "3DUGY-5BoJ8R",
        "outputId": "afc6c18b-2ba4-44ed-a2a3-1de804d1a45b"
      },
      "source": [
        "import scipy.signal\n",
        "def cryptanalyse_vigenere_findlength(s):\n",
        "  '''Given just the string s, find out the length of the password using which\n",
        "  some text has resulted in the string s. We just need to return the number\n",
        "  k'''\n",
        "  ls = []\n",
        "  for r in range(1,60):\n",
        "    ls.append(rotate_compare(s,r)) \n",
        "  plt.plot(ls)\n",
        "  plt.show()\n",
        "  for x in ls:\n",
        "    if x > 0.060:\n",
        "      return ls.index(x)+1\n",
        "\n",
        "sol = cryptanalyse_vigenere_findlength(vigenere_encrypt(S,\"daisy\"))\n",
        "print(sol)"
      ],
      "execution_count": null,
      "outputs": [
        {
          "output_type": "display_data",
          "data": {
            "text/plain": [
              "<Figure size 432x288 with 1 Axes>"
            ],
            "image/png": "[encoded data removed]"
          },
          "metadata": {
            "needs_background": "light"
          }
        },
        {
          "output_type": "stream",
          "name": "stdout",
          "text": [
            "5\n"
          ]
        }
      ]
    },
    {
      "cell_type": "code",
      "metadata": {
        "id": "8glhtE9_qSIX"
      },
      "source": [
        "def cryptanalyse_vigenere(s):\n",
        "    '''Given the string s cryptanalyse vigenere, outputs the password as well as\n",
        "    the plaintext'''\n",
        "    k = cryptanalyse_vigenere_findlength(s)\n",
        "    password = cryptanalyse_vigenere_afterlength(s,k)\n",
        "    plaintext = vigenere_decrypt(s,password)\n",
        "    return f\"Password is : {password} \\nText is:\\n{plaintext}\""
      ],
      "execution_count": null,
      "outputs": []
    },
    {
      "cell_type": "code",
      "metadata": {
        "colab": {
          "base_uri": "https://localhost:8080/",
          "height": 317
        },
        "id": "SMYhZy1yHhKL",
        "outputId": "d1bfdb40-d989-4eec-b61b-ffc81aa53b69"
      },
      "source": [
        "print(cryptanalyse_vigenere(vigenere_encrypt(S,\"daisy\"))[:100])"
      ],
      "execution_count": null,
      "outputs": [
        {
          "output_type": "display_data",
          "data": {
            "text/plain": [
              "<Figure size 432x288 with 1 Axes>"
            ],
            "image/png": "[encoded data removed]"
          },
          "metadata": {
            "needs_background": "light"
          }
        },
        {
          "output_type": "stream",
          "name": "stdout",
          "text": [
            "Password is : daisy \n",
            "Text is:\n",
            "contentschaptermrsherlockholmeschapterthecurseofthebaskervilleschapter\n"
          ]
        }
      ]
    },
    {
      "cell_type": "code",
      "source": [
        "f3 = open(\"decrypted.txt\", \"w\")\n",
        "f3.write(cryptanalyse_vigenere(vigenere_encrypt(S,\"daisy\")))\n",
        "files.download(\"decrypted.txt\")"
      ],
      "metadata": {
        "colab": {
          "base_uri": "https://localhost:8080/",
          "height": 282
        },
        "id": "1N2sngNKJDU8",
        "outputId": "4728976e-5d21-4f4a-8f95-cbfc5e9c3e98"
      },
      "execution_count": null,
      "outputs": [
        {
          "output_type": "display_data",
          "data": {
            "text/plain": [
              "<Figure size 432x288 with 1 Axes>"
            ],
            "image/png": "[encoded data removed]"
          },
          "metadata": {
            "needs_background": "light"
          }
        },
        {
          "output_type": "display_data",
          "data": {
            "text/plain": [
              "<IPython.core.display.Javascript object>"
            ],
            "application/javascript": [
              "\n",
              "    async function download(id, filename, size) {\n",
              "      if (!google.colab.kernel.accessAllowed) {\n",
              "        return;\n",
              "      }\n",
              "      const div = document.createElement('div');\n",
              "      const label = document.createElement('label');\n",
              "      label.textContent = `Downloading \"${filename}\": `;\n",
              "      div.appendChild(label);\n",
              "      const progress = document.createElement('progress');\n",
              "      progress.max = size;\n",
              "      div.appendChild(progress);\n",
              "      document.body.appendChild(div);\n",
              "\n",
              "      const buffers = [];\n",
              "      let downloaded = 0;\n",
              "\n",
              "      const channel = await google.colab.kernel.comms.open(id);\n",
              "      // Send a message to notify the kernel that we're ready.\n",
              "      channel.send({})\n",
              "\n",
              "      for await (const message of channel.messages) {\n",
              "        // Send a message to notify the kernel that we're ready.\n",
              "        channel.send({})\n",
              "        if (message.buffers) {\n",
              "          for (const buffer of message.buffers) {\n",
              "            buffers.push(buffer);\n",
              "            downloaded += buffer.byteLength;\n",
              "            progress.value = downloaded;\n",
              "          }\n",
              "        }\n",
              "      }\n",
              "      const blob = new Blob(buffers, {type: 'application/binary'});\n",
              "      const a = document.createElement('a');\n",
              "      a.href = window.URL.createObjectURL(blob);\n",
              "      a.download = filename;\n",
              "      div.appendChild(a);\n",
              "      a.click();\n",
              "      div.remove();\n",
              "    }\n",
              "  "
            ]
          },
          "metadata": {}
        },
        {
          "output_type": "display_data",
          "data": {
            "text/plain": [
              "<IPython.core.display.Javascript object>"
            ],
            "application/javascript": [
              "download(\"download_16699452-90fe-45e7-8cc2-461b1b9dd476\", \"decrypted.txt\", 245970)"
            ]
          },
          "metadata": {}
        }
      ]
    },
    {
      "cell_type": "code",
      "source": [
        ""
      ],
      "metadata": {
        "id": "2eJ-P5mXMZar"
      },
      "execution_count": null,
      "outputs": []
    }
  ]
}