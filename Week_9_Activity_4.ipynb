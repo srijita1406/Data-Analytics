{
  "nbformat": 4,
  "nbformat_minor": 0,
  "metadata": {
    "colab": {
      "name": " Week 9: Activity 4",
      "provenance": [],
      "include_colab_link": true
    },
    "kernelspec": {
      "name": "python3",
      "display_name": "Python 3"
    },
    "language_info": {
      "name": "python"
    }
  },
  "cells": [
    {
      "cell_type": "markdown",
      "metadata": {
        "id": "view-in-github",
        "colab_type": "text"
      },
      "source": [
        "<a href=\"https://colab.research.google.com/github/srijita1406/Data-Analytics/blob/main/Week_9_Activity_4.ipynb\" target=\"_parent\"><img src=\"https://colab.research.google.com/assets/colab-badge.svg\" alt=\"Open In Colab\"/></a>"
      ]
    },
    {
      "cell_type": "code",
      "metadata": {
        "id": "X2rUF-A1MS97"
      },
      "source": [
        "import numpy as np\n",
        "import matplotlib.pyplot as plt\n",
        "import pandas as pd\n",
        "import scipy.stats as st"
      ],
      "execution_count": null,
      "outputs": []
    },
    {
      "cell_type": "code",
      "metadata": {
        "colab": {
          "base_uri": "https://localhost:8080/",
          "height": 195
        },
        "id": "pQiWjKHaQw6f",
        "outputId": "4200e3f5-af07-4b9d-b515-156f44df0349"
      },
      "source": [
        "# Read the spreadsheet data (from Data_Fitting.xlsx) into a Pandas dataframe\n",
        "df = pd.read_excel(\"Data_Fitting.xlsx\")\n",
        "# Preview the data\n",
        "df.head()"
      ],
      "execution_count": null,
      "outputs": [
        {
          "output_type": "execute_result",
          "data": {
            "text/html": [
              "<div>\n",
              "<style scoped>\n",
              "    .dataframe tbody tr th:only-of-type {\n",
              "        vertical-align: middle;\n",
              "    }\n",
              "\n",
              "    .dataframe tbody tr th {\n",
              "        vertical-align: top;\n",
              "    }\n",
              "\n",
              "    .dataframe thead th {\n",
              "        text-align: right;\n",
              "    }\n",
              "</style>\n",
              "<table border=\"1\" class=\"dataframe\">\n",
              "  <thead>\n",
              "    <tr style=\"text-align: right;\">\n",
              "      <th></th>\n",
              "      <th>Data</th>\n",
              "    </tr>\n",
              "  </thead>\n",
              "  <tbody>\n",
              "    <tr>\n",
              "      <th>0</th>\n",
              "      <td>75</td>\n",
              "    </tr>\n",
              "    <tr>\n",
              "      <th>1</th>\n",
              "      <td>80</td>\n",
              "    </tr>\n",
              "    <tr>\n",
              "      <th>2</th>\n",
              "      <td>20</td>\n",
              "    </tr>\n",
              "    <tr>\n",
              "      <th>3</th>\n",
              "      <td>45</td>\n",
              "    </tr>\n",
              "    <tr>\n",
              "      <th>4</th>\n",
              "      <td>42</td>\n",
              "    </tr>\n",
              "  </tbody>\n",
              "</table>\n",
              "</div>"
            ],
            "text/plain": [
              "   Data\n",
              "0    75\n",
              "1    80\n",
              "2    20\n",
              "3    45\n",
              "4    42"
            ]
          },
          "metadata": {
            "tags": []
          },
          "execution_count": 2
        }
      ]
    },
    {
      "cell_type": "code",
      "metadata": {
        "colab": {
          "base_uri": "https://localhost:8080/"
        },
        "id": "_PshmpmzXtop",
        "outputId": "d79aa6b9-09d3-4239-f071-1ec746785801"
      },
      "source": [
        "# S stands for this sampling\n",
        "S = df.Data.values\n",
        "S"
      ],
      "execution_count": null,
      "outputs": [
        {
          "output_type": "execute_result",
          "data": {
            "text/plain": [
              "array([75, 80, 20, ..., 25, 10, 50])"
            ]
          },
          "metadata": {
            "tags": []
          },
          "execution_count": 3
        }
      ]
    },
    {
      "cell_type": "markdown",
      "metadata": {
        "id": "_CYcGioyRpU5"
      },
      "source": [
        "# 1.) Histogram of the Data"
      ]
    },
    {
      "cell_type": "code",
      "metadata": {
        "colab": {
          "base_uri": "https://localhost:8080/",
          "height": 540
        },
        "id": "Kgecv8yJRu0P",
        "outputId": "0e9549d1-1ce6-4cb4-e7c0-c2cba7c117d3"
      },
      "source": [
        "# df.plot(kind = \"hist\")\n",
        "fig, ax = plt.subplots(figsize = (12, 8))\n",
        "fig.suptitle(\"Histogram of the Data\")\n",
        "ax.hist(S)\n",
        "plt.show()"
      ],
      "execution_count": null,
      "outputs": [
        {
          "output_type": "display_data",
          "data": {
            "image/png": "[encoded data removed]",
            "text/plain": [
              "<Figure size 864x576 with 1 Axes>"
            ]
          },
          "metadata": {
            "tags": [],
            "needs_background": "light"
          }
        }
      ]
    },
    {
      "cell_type": "markdown",
      "metadata": {
        "id": "QvTF2taTS7jC"
      },
      "source": [
        "# 2.) Fit One of the Known Distributions to the Data Using Both Method of Moments and Maximum Likelihood Estimators"
      ]
    },
    {
      "cell_type": "markdown",
      "metadata": {
        "id": "5wZAv64wTUSK"
      },
      "source": [
        "From the histogram of the given data, it seems like it could possibly be a **Normal** distribution, i.e.,\n",
        "**X ~ $Normal(\\mu, \\sigma^2)$**. So we have unknown parameters $\\mu$ and $\\sigma$ and we are supposed to fit the data to such a distribution, i.e., build estimators for the unknown parameters."
      ]
    },
    {
      "cell_type": "markdown",
      "metadata": {
        "id": "wPDMmZy_U7vB"
      },
      "source": [
        "### (a) MM (Method of Moments) Estimation"
      ]
    },
    {
      "cell_type": "markdown",
      "metadata": {
        "id": "lcrNyFnqViqS"
      },
      "source": [
        "Considering X ~ $Normal(\\mu, \\sigma^2)$<br/>\n",
        "We have **first moment**, $m_1=E[X]=\\mu$<br/>\n",
        "and **second moment**, $m_2=E[X^2]=(E[X])^2+Var(X)=\\mu^2+\\sigma^2$"
      ]
    },
    {
      "cell_type": "markdown",
      "metadata": {
        "id": "AJER6KMdYaSG"
      },
      "source": [
        "From the above two equations we have<br/>\n",
        "$\\mu=m_1$<br/>\n",
        "$\\sigma=\\sqrt{m_2-m_1^2}$"
      ]
    },
    {
      "cell_type": "markdown",
      "metadata": {
        "id": "6W72pSa3axGY"
      },
      "source": [
        "So if our **sample moments** for the given data are $M_1, M_2$, then our **MM Estimators** are:<br/>\n",
        "$\\hat{\\mu}=M_1$<br/>\n",
        "$\\hat{\\sigma}=\\sqrt{M_2-M_1^2}$"
      ]
    },
    {
      "cell_type": "code",
      "metadata": {
        "colab": {
          "base_uri": "https://localhost:8080/"
        },
        "id": "bZ1X-TBWU33w",
        "outputId": "b8523fe0-af7d-4e0f-d4e1-1401014e5464"
      },
      "source": [
        "# Sample moments\n",
        "m1 = np.mean(S)\n",
        "m2 = np.mean(S ** 2)\n",
        "m1, m2"
      ],
      "execution_count": null,
      "outputs": [
        {
          "output_type": "execute_result",
          "data": {
            "text/plain": [
              "(45.02800908402725, 2423.3853141559425)"
            ]
          },
          "metadata": {
            "tags": []
          },
          "execution_count": 5
        }
      ]
    },
    {
      "cell_type": "code",
      "metadata": {
        "colab": {
          "base_uri": "https://localhost:8080/"
        },
        "id": "we8_0l48fya6",
        "outputId": "cd870b8d-467b-4210-940f-239d93d201f4"
      },
      "source": [
        "# Parameters estimated using MM Estimators\n",
        "mumm = m1\n",
        "sigmamm = np.sqrt(m2 - m1 ** 2)\n",
        "mumm, sigmamm"
      ],
      "execution_count": null,
      "outputs": [
        {
          "output_type": "execute_result",
          "data": {
            "text/plain": [
              "(45.02800908402725, 19.896324084732374)"
            ]
          },
          "metadata": {
            "tags": []
          },
          "execution_count": 6
        }
      ]
    },
    {
      "cell_type": "markdown",
      "metadata": {
        "id": "QN8AeABIgZqx"
      },
      "source": [
        "So the estimated parameters using MM Estimators are:<br/>\n",
        "$\\mu_{mm}=45.028, \\sigma_{mm}=19.896$"
      ]
    },
    {
      "cell_type": "markdown",
      "metadata": {
        "id": "xmfUT43Eg1MR"
      },
      "source": [
        "### (b) ML (Maximum Likelihood) Estimation"
      ]
    },
    {
      "cell_type": "markdown",
      "metadata": {
        "id": "eketVDqTlqSR"
      },
      "source": [
        "We have a total of **n** data entries in our sample $(x_1, x_2,..., x_n)$.<br/>\n",
        "So the likelihood of this sample is given by<br/>\n",
        "$L=(\\frac{1}{\\sigma\\sqrt{2\\pi}})^n.e^{\\frac{-(\\mu-x_1)^2-(\\mu-x_2)^2-...-(\\mu-x_n)^2}{2\\sigma^2}}$<br/>\n",
        "To find estimators for our parameters, we need to maximize this function, i.e.,<br/>\n",
        "$\\hat{\\mu}, \\hat{\\sigma}=argmax_{(\\mu, \\sigma)}(L)$<br/>\n",
        "But since maximizing this function is quite difficult and time-consuming, we can maximize its (natural) log instead, i.e.,<br/>\n",
        "$\\hat{\\mu}, \\hat{\\sigma}=argmax_{(\\mu, \\sigma)}(lnL)$"
      ]
    },
    {
      "cell_type": "markdown",
      "metadata": {
        "id": "6ZQNaeIL1UfI"
      },
      "source": [
        "$lnL=-n.ln(\\sqrt{2\\pi})-n.ln(\\sigma)-\\frac{n\\mu^2}{2\\sigma^2}-\\frac{x_1^2+...+x_n^2}{2\\sigma^2}+\\frac{\\mu(x_1+...+x_n)}{\\sigma^2}$"
      ]
    },
    {
      "cell_type": "markdown",
      "metadata": {
        "id": "G8IuFSTl2eXA"
      },
      "source": [
        "We equate partial derivatives of the log-likelihood function (calculated above) with respect to $\\mu$ and $\\sigma$ to zero, to obtain two equations which will be used to find the estimators for the parameters:<br/>\n",
        "$\\frac{\\partial(lnL)}{\\partial\\mu}=0$<br/>\n",
        "$\\frac{\\partial(lnL)}{\\partial\\sigma}=0$<br/>"
      ]
    },
    {
      "cell_type": "markdown",
      "metadata": {
        "id": "7-YWtPgl72qg"
      },
      "source": [
        "This gives<br/>\n",
        "$\\hat{\\mu}=\\frac{x_2+...+x_n}{n}$<br/>\n",
        "$\\hat{\\sigma}=\\sqrt{\\frac{(x_1-\\mu)^2+...(x_n-\\mu)^2}{n}}$"
      ]
    },
    {
      "cell_type": "code",
      "metadata": {
        "colab": {
          "base_uri": "https://localhost:8080/"
        },
        "id": "9PDNR45AgW6H",
        "outputId": "72eb733e-bf99-4a1d-97e0-e4ff5121e4d2"
      },
      "source": [
        "n = len(S)\n",
        "n"
      ],
      "execution_count": null,
      "outputs": [
        {
          "output_type": "execute_result",
          "data": {
            "text/plain": [
              "1321"
            ]
          },
          "metadata": {
            "tags": []
          },
          "execution_count": 7
        }
      ]
    },
    {
      "cell_type": "code",
      "metadata": {
        "colab": {
          "base_uri": "https://localhost:8080/"
        },
        "id": "P55S5IisFB7l",
        "outputId": "d3b6ab47-1404-48c5-f4a1-866693d2da39"
      },
      "source": [
        "# Parameters estimated using ML Estimators\n",
        "muml = np.mean(S)\n",
        "# sigmaml = np.sqrt(np.sum((S - muml) ** 2) / n)\n",
        "sigmaml = np.std(S)\n",
        "muml, sigmaml"
      ],
      "execution_count": null,
      "outputs": [
        {
          "output_type": "execute_result",
          "data": {
            "text/plain": [
              "(45.02800908402725, 19.89632408473238)"
            ]
          },
          "metadata": {
            "tags": []
          },
          "execution_count": 8
        }
      ]
    },
    {
      "cell_type": "markdown",
      "metadata": {
        "id": "qbPY2oaUF8Z-"
      },
      "source": [
        "So the estimated parameters using ML Estimators are:<br/>\n",
        "$\\mu_{ml}=45.028, \\sigma_{ml}=19.896$"
      ]
    },
    {
      "cell_type": "code",
      "metadata": {
        "colab": {
          "base_uri": "https://localhost:8080/",
          "height": 265
        },
        "id": "NkDxJCCgy-G7",
        "outputId": "5025427d-0633-4529-f95a-f80153e34e75"
      },
      "source": [
        "# Plot our predicted distribution with the given data using a density plot\n",
        "x = np.linspace(0, 100, n)\n",
        "plt.hist(S, density = True)\n",
        "plt.plot(x, st.norm.pdf(x, loc = muml, scale = sigmaml))\n",
        "plt.show()"
      ],
      "execution_count": null,
      "outputs": [
        {
          "output_type": "display_data",
          "data": {
            "image/png": "[encoded data removed]",
            "text/plain": [
              "<Figure size 432x288 with 1 Axes>"
            ]
          },
          "metadata": {
            "tags": [],
            "needs_background": "light"
          }
        }
      ]
    },
    {
      "cell_type": "markdown",
      "metadata": {
        "id": "-gZ3IKBxIS3S"
      },
      "source": [
        "# 3.) Form Approximate Confidence Intervals Using the Bootstrap Method"
      ]
    },
    {
      "cell_type": "markdown",
      "metadata": {
        "id": "Vco-YX4HmKc2"
      },
      "source": [
        "We have from both the types of estimators that our estimated parameters are<br/>\n",
        "$\\hat\\mu=45.028, \\hat\\sigma=19.896$<br/>"
      ]
    },
    {
      "cell_type": "markdown",
      "metadata": {
        "id": "1E4OThFmn4_-"
      },
      "source": [
        "But these values correspond to only the given sampling. So we are also interested in finding a **confidence interval** (say 95%) for each of our parameters.<br/>\n",
        "A $\\gamma$% confidence interval for a parameter $\\theta$ refers to the interval $[\\hat\\theta-\\delta_1, \\hat\\theta-\\delta_2]$ (where $\\hat\\theta$ is the estimated/expected value of the parameter) in which we expect the value of the parameter to be $\\gamma$% of the times.<br/>\n",
        "i.e., if $\\gamma=100(1-\\delta)$ then<br/>\n",
        "$P(\\hat\\theta-\\delta_1<\\theta\\leq\\hat\\theta-\\delta_2)=1-\\delta$"
      ]
    },
    {
      "cell_type": "markdown",
      "metadata": {
        "id": "0LErBg4IsKM2"
      },
      "source": [
        "So we do the following assignments<br/>\n",
        "$P(\\hat\\theta-\\theta\\leq\\delta_1)=1-\\frac{\\delta}{2}$<br/>\n",
        "$P(\\hat\\theta-\\theta\\leq\\delta_2)=\\frac{\\delta}{2}$<br/>\n",
        "$\\implies P(\\hat\\theta-\\delta_1<\\theta\\leq\\theta-\\delta_2)=1-\\frac{\\delta}{2}-\\frac{\\delta}{2}=1-\\delta$<br/>\n"
      ]
    },
    {
      "cell_type": "markdown",
      "metadata": {
        "id": "uBv3SEwx2ZjL"
      },
      "source": [
        "Then we use the **Bootstrap method** (uses Monte Carlo simulation) to calculate the required confidence interval. In this method, we use our estimated parameters $\\hat\\theta$ to randomly generate n-sized samplings a large number of times (say, N = 1000); each time estimating the parameters for that particular sample generated, resulting in the creation of a sample distribution $\\theta$ of each of the parameters.<br/>\n",
        "We then find the $100(\\frac{\\delta}{2})$th percentile of the error to calculate $\\delta_2$ and the $100-100(\\frac{\\delta}{2})$th percentile of the error to calculate $\\delta_1$.<br/>\n",
        "In our case, $\\delta=0.05$"
      ]
    },
    {
      "cell_type": "code",
      "metadata": {
        "id": "OMxxX9d7Fmla"
      },
      "source": [
        "# Bootstrap method to approximate 95% confidence interval for both the parameters\n",
        "N = 1000  # Number of iterations for Monte-Carlo simulation\n",
        "d = 0.05  # delta\n",
        "# Initialize an empty array for each of the parameters\n",
        "muHat = np.zeros(N)\n",
        "sigmaHat = np.zeros(N)\n",
        "# Monte-Carlo simulation\n",
        "for i in range(N):\n",
        "  # Randomly generated n-sized normal distribution with our estimated parameters\n",
        "  xi = st.norm.rvs(loc = muml, scale = sigmaml, size = n)\n",
        "  # Estimate parameters for this sample\n",
        "  mui = np.mean(xi)\n",
        "  sigmai = np.std(xi)\n",
        "  # Add them to their respective arrays\n",
        "  muHat[i] = mui\n",
        "  sigmaHat[i] = sigmai"
      ],
      "execution_count": null,
      "outputs": []
    },
    {
      "cell_type": "code",
      "metadata": {
        "id": "T9C6U0xU9bC7"
      },
      "source": [
        "# Get the error distributions\n",
        "muError = muHat - muml\n",
        "sigmaError = sigmaHat - sigmaml"
      ],
      "execution_count": null,
      "outputs": []
    },
    {
      "cell_type": "code",
      "metadata": {
        "colab": {
          "base_uri": "https://localhost:8080/",
          "height": 374
        },
        "id": "k-apEkds72kv",
        "outputId": "e65f8c70-ef72-489e-f2f0-76a633016544"
      },
      "source": [
        "# Histogram of the error of the distribution of each of the parameters\n",
        "fig, ax = plt.subplots(1, 2, figsize = (10, 6))\n",
        "ax[0].hist(muError, density = True)\n",
        "ax[1].hist(sigmaError, density = True, color = \"red\")\n",
        "plt.show()"
      ],
      "execution_count": null,
      "outputs": [
        {
          "output_type": "display_data",
          "data": {
            "image/png": "[encoded data removed]",
            "text/plain": [
              "<Figure size 720x432 with 2 Axes>"
            ]
          },
          "metadata": {
            "tags": [],
            "needs_background": "light"
          }
        }
      ]
    },
    {
      "cell_type": "code",
      "metadata": {
        "colab": {
          "base_uri": "https://localhost:8080/"
        },
        "id": "ghyXkr-M8Vxn",
        "outputId": "d33eb780-2ee7-434b-b110-a43f67104ba3"
      },
      "source": [
        "# Finding the required percentiles\n",
        "d2 = 100 * d / 2  # Percentile for finding delta2\n",
        "d1 = 100 - d2  # Percentile for finding delta1\n",
        "# For the first parameter (mu)\n",
        "muDelta1 = np.percentile(muError, d1)\n",
        "muDelta2 = np.percentile(muError, d2)\n",
        "# For the second parameter (sigma)\n",
        "sigmaDelta1 = np.percentile(sigmaError, d1)\n",
        "sigmaDelta2 = np.percentile(sigmaError, d2)\n",
        "# Print the values\n",
        "print(muDelta1, muDelta2)\n",
        "print(sigmaDelta1, sigmaDelta2)"
      ],
      "execution_count": null,
      "outputs": [
        {
          "output_type": "stream",
          "text": [
            "1.0358452010973487 -1.116882369467142\n",
            "0.7013803335807027 -0.7199418929139909\n"
          ],
          "name": "stdout"
        }
      ]
    },
    {
      "cell_type": "code",
      "metadata": {
        "colab": {
          "base_uri": "https://localhost:8080/"
        },
        "id": "ivE3iY7YBwSl",
        "outputId": "8cd0358b-5c0e-47c4-89d0-413a6476941f"
      },
      "source": [
        "# Print the intervals\n",
        "print(f\"mu: [{muml - muDelta1}, {muml - muDelta2}]\")\n",
        "print(f\"sigma: [{sigmaml - sigmaDelta1}, {sigmaml - sigmaDelta2}]\")"
      ],
      "execution_count": null,
      "outputs": [
        {
          "output_type": "stream",
          "text": [
            "mu: [43.9921638829299, 46.144891453494395]\n",
            "sigma: [19.19494375115168, 20.61626597764637]\n"
          ],
          "name": "stdout"
        }
      ]
    },
    {
      "cell_type": "markdown",
      "metadata": {
        "id": "M-SnauIHCj1-"
      },
      "source": [
        "So the **95% cofidence intervals** are:<br/>\n",
        "$\\mu: [43.992, 46.145]$<br/>\n",
        "$\\sigma: [19.195, 20.616]$<br/>\n",
        "<br/>\n",
        "**Note**: These intervals are subject to slight changes for different executions of the Bootstrap Monte-Carlo simulation."
      ]
    },
    {
      "cell_type": "code",
      "metadata": {
        "id": "sUAD7JJRCf6O"
      },
      "source": [
        ""
      ],
      "execution_count": null,
      "outputs": []
    }
  ]
}